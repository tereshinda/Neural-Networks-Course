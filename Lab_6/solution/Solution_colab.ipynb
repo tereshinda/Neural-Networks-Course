{
 "cells": [
  {
   "cell_type": "code",
   "execution_count": 1,
   "metadata": {
    "colab": {
     "base_uri": "https://localhost:8080/"
    },
    "executionInfo": {
     "elapsed": 2032,
     "status": "ok",
     "timestamp": 1734975337037,
     "user": {
      "displayName": "Данил Терешин",
      "userId": "12554915802224218745"
     },
     "user_tz": -180
    },
    "id": "DZbiR5m-_E7_",
    "outputId": "839045ee-4761-4e06-d145-3af15586a971"
   },
   "outputs": [
    {
     "name": "stdout",
     "output_type": "stream",
     "text": [
      "Drive already mounted at /content/drive; to attempt to forcibly remount, call drive.mount(\"/content/drive\", force_remount=True).\n"
     ]
    }
   ],
   "source": [
    "from google.colab import drive\n",
    "drive.mount('/content/drive')"
   ]
  },
  {
   "cell_type": "code",
   "execution_count": 2,
   "metadata": {
    "executionInfo": {
     "elapsed": 3,
     "status": "ok",
     "timestamp": 1734975337037,
     "user": {
      "displayName": "Данил Терешин",
      "userId": "12554915802224218745"
     },
     "user_tz": -180
    },
    "id": "tnaM8b0v_WXs"
   },
   "outputs": [],
   "source": [
    "import sys\n",
    "import os\n",
    "\n",
    "sys.path.append(os.path.abspath('..'))\n",
    "sys.path.append(os.path.abspath('/content/drive/MyDrive/'))"
   ]
  },
  {
   "cell_type": "code",
   "execution_count": 3,
   "metadata": {
    "executionInfo": {
     "elapsed": 3806,
     "status": "ok",
     "timestamp": 1734975340840,
     "user": {
      "displayName": "Данил Терешин",
      "userId": "12554915802224218745"
     },
     "user_tz": -180
    },
    "id": "c_5OED5F_eoC"
   },
   "outputs": [],
   "source": [
    "import json\n",
    "import tarfile\n",
    "\n",
    "from pathlib import Path\n",
    "from tqdm import tqdm\n",
    "\n",
    "import pandas as pd\n",
    "import numpy as np\n",
    "import matplotlib.pyplot as plt\n",
    "import seaborn as sns\n",
    "\n",
    "from sklearn.model_selection import train_test_split\n",
    "from sklearn.metrics import r2_score"
   ]
  },
  {
   "cell_type": "code",
   "execution_count": 4,
   "metadata": {
    "colab": {
     "base_uri": "https://localhost:8080/"
    },
    "executionInfo": {
     "elapsed": 7467,
     "status": "ok",
     "timestamp": 1734975348303,
     "user": {
      "displayName": "Данил Терешин",
      "userId": "12554915802224218745"
     },
     "user_tz": -180
    },
    "id": "Q6ya-4mH_iRm",
    "outputId": "2a4e90d6-3867-4fbe-a33b-3f9dea7d9a15"
   },
   "outputs": [
    {
     "name": "stdout",
     "output_type": "stream",
     "text": [
      "Requirement already satisfied: pymatgen in /usr/local/lib/python3.10/dist-packages (2024.11.13)\n",
      "Requirement already satisfied: megnet in /usr/local/lib/python3.10/dist-packages (1.3.2)\n",
      "Requirement already satisfied: joblib>=1 in /usr/local/lib/python3.10/dist-packages (from pymatgen) (1.4.2)\n",
      "Requirement already satisfied: matplotlib>=3.8 in /usr/local/lib/python3.10/dist-packages (from pymatgen) (3.8.0)\n",
      "Requirement already satisfied: monty>=2024.10.21 in /usr/local/lib/python3.10/dist-packages (from pymatgen) (2024.12.10)\n",
      "Requirement already satisfied: networkx>=2.7 in /usr/local/lib/python3.10/dist-packages (from pymatgen) (3.4.2)\n",
      "Requirement already satisfied: palettable>=3.3.3 in /usr/local/lib/python3.10/dist-packages (from pymatgen) (3.3.3)\n",
      "Requirement already satisfied: pandas>=2 in /usr/local/lib/python3.10/dist-packages (from pymatgen) (2.2.2)\n",
      "Requirement already satisfied: plotly>=4.5.0 in /usr/local/lib/python3.10/dist-packages (from pymatgen) (5.24.1)\n",
      "Requirement already satisfied: pybtex>=0.24.0 in /usr/local/lib/python3.10/dist-packages (from pymatgen) (0.24.0)\n",
      "Requirement already satisfied: requests>=2.32 in /usr/local/lib/python3.10/dist-packages (from pymatgen) (2.32.3)\n",
      "Requirement already satisfied: ruamel.yaml>=0.17.0 in /usr/local/lib/python3.10/dist-packages (from pymatgen) (0.18.6)\n",
      "Requirement already satisfied: scipy>=1.13.0 in /usr/local/lib/python3.10/dist-packages (from pymatgen) (1.13.1)\n",
      "Requirement already satisfied: spglib>=2.5.0 in /usr/local/lib/python3.10/dist-packages (from pymatgen) (2.5.0)\n",
      "Requirement already satisfied: sympy>=1.3 in /usr/local/lib/python3.10/dist-packages (from pymatgen) (1.13.1)\n",
      "Requirement already satisfied: tabulate>=0.9 in /usr/local/lib/python3.10/dist-packages (from pymatgen) (0.9.0)\n",
      "Requirement already satisfied: tqdm>=4.60 in /usr/local/lib/python3.10/dist-packages (from pymatgen) (4.67.1)\n",
      "Requirement already satisfied: uncertainties>=3.1.4 in /usr/local/lib/python3.10/dist-packages (from pymatgen) (3.2.2)\n",
      "Requirement already satisfied: numpy<3,>=1.25.0 in /usr/local/lib/python3.10/dist-packages (from pymatgen) (1.26.4)\n",
      "Requirement already satisfied: scikit-learn in /usr/local/lib/python3.10/dist-packages (from megnet) (1.6.0)\n",
      "Requirement already satisfied: contourpy>=1.0.1 in /usr/local/lib/python3.10/dist-packages (from matplotlib>=3.8->pymatgen) (1.3.1)\n",
      "Requirement already satisfied: cycler>=0.10 in /usr/local/lib/python3.10/dist-packages (from matplotlib>=3.8->pymatgen) (0.12.1)\n",
      "Requirement already satisfied: fonttools>=4.22.0 in /usr/local/lib/python3.10/dist-packages (from matplotlib>=3.8->pymatgen) (4.55.3)\n",
      "Requirement already satisfied: kiwisolver>=1.0.1 in /usr/local/lib/python3.10/dist-packages (from matplotlib>=3.8->pymatgen) (1.4.7)\n",
      "Requirement already satisfied: packaging>=20.0 in /usr/local/lib/python3.10/dist-packages (from matplotlib>=3.8->pymatgen) (24.2)\n",
      "Requirement already satisfied: pillow>=6.2.0 in /usr/local/lib/python3.10/dist-packages (from matplotlib>=3.8->pymatgen) (11.0.0)\n",
      "Requirement already satisfied: pyparsing>=2.3.1 in /usr/local/lib/python3.10/dist-packages (from matplotlib>=3.8->pymatgen) (3.2.0)\n",
      "Requirement already satisfied: python-dateutil>=2.7 in /usr/local/lib/python3.10/dist-packages (from matplotlib>=3.8->pymatgen) (2.8.2)\n",
      "Requirement already satisfied: pytz>=2020.1 in /usr/local/lib/python3.10/dist-packages (from pandas>=2->pymatgen) (2024.2)\n",
      "Requirement already satisfied: tzdata>=2022.7 in /usr/local/lib/python3.10/dist-packages (from pandas>=2->pymatgen) (2024.2)\n",
      "Requirement already satisfied: tenacity>=6.2.0 in /usr/local/lib/python3.10/dist-packages (from plotly>=4.5.0->pymatgen) (9.0.0)\n",
      "Requirement already satisfied: PyYAML>=3.01 in /usr/local/lib/python3.10/dist-packages (from pybtex>=0.24.0->pymatgen) (6.0.2)\n",
      "Requirement already satisfied: latexcodec>=1.0.4 in /usr/local/lib/python3.10/dist-packages (from pybtex>=0.24.0->pymatgen) (3.0.0)\n",
      "Requirement already satisfied: six in /usr/local/lib/python3.10/dist-packages (from pybtex>=0.24.0->pymatgen) (1.17.0)\n",
      "Requirement already satisfied: charset-normalizer<4,>=2 in /usr/local/lib/python3.10/dist-packages (from requests>=2.32->pymatgen) (3.4.0)\n",
      "Requirement already satisfied: idna<4,>=2.5 in /usr/local/lib/python3.10/dist-packages (from requests>=2.32->pymatgen) (3.10)\n",
      "Requirement already satisfied: urllib3<3,>=1.21.1 in /usr/local/lib/python3.10/dist-packages (from requests>=2.32->pymatgen) (2.2.3)\n",
      "Requirement already satisfied: certifi>=2017.4.17 in /usr/local/lib/python3.10/dist-packages (from requests>=2.32->pymatgen) (2024.12.14)\n",
      "Requirement already satisfied: ruamel.yaml.clib>=0.2.7 in /usr/local/lib/python3.10/dist-packages (from ruamel.yaml>=0.17.0->pymatgen) (0.2.12)\n",
      "Requirement already satisfied: mpmath<1.4,>=1.1.0 in /usr/local/lib/python3.10/dist-packages (from sympy>=1.3->pymatgen) (1.3.0)\n",
      "Requirement already satisfied: threadpoolctl>=3.1.0 in /usr/local/lib/python3.10/dist-packages (from scikit-learn->megnet) (3.5.0)\n"
     ]
    }
   ],
   "source": [
    "!pip install pymatgen megnet"
   ]
  },
  {
   "cell_type": "code",
   "execution_count": 5,
   "metadata": {
    "executionInfo": {
     "elapsed": 13719,
     "status": "ok",
     "timestamp": 1734975362018,
     "user": {
      "displayName": "Данил Терешин",
      "userId": "12554915802224218745"
     },
     "user_tz": -180
    },
    "id": "-uI0HywU_u5E"
   },
   "outputs": [],
   "source": [
    "from pymatgen.core import Structure, Element\n",
    "from megnet.models import MEGNetModel\n",
    "from megnet.data.crystal import CrystalGraph"
   ]
  },
  {
   "cell_type": "code",
   "execution_count": 6,
   "metadata": {
    "executionInfo": {
     "elapsed": 5,
     "status": "ok",
     "timestamp": 1734975362019,
     "user": {
      "displayName": "Данил Терешин",
      "userId": "12554915802224218745"
     },
     "user_tz": -180
    },
    "id": "OS9KpUGYDeou"
   },
   "outputs": [],
   "source": [
    "seed = 20\n",
    "rng = np.random.default_rng(seed)"
   ]
  },
  {
   "cell_type": "markdown",
   "metadata": {
    "id": "EKrHpVaNIHWQ"
   },
   "source": [
    "# Prepare data"
   ]
  },
  {
   "cell_type": "code",
   "execution_count": 7,
   "metadata": {
    "executionInfo": {
     "elapsed": 4,
     "status": "ok",
     "timestamp": 1734975362019,
     "user": {
      "displayName": "Данил Терешин",
      "userId": "12554915802224218745"
     },
     "user_tz": -180
    },
    "id": "2vS3Z2k8_4U2"
   },
   "outputs": [],
   "source": [
    "dataset_path = '/content/drive/MyDrive/dichalcogenides_public.tar.gz'"
   ]
  },
  {
   "cell_type": "code",
   "execution_count": 8,
   "metadata": {
    "executionInfo": {
     "elapsed": 2159,
     "status": "ok",
     "timestamp": 1734975364174,
     "user": {
      "displayName": "Данил Терешин",
      "userId": "12554915802224218745"
     },
     "user_tz": -180
    },
    "id": "DgvHmHWXAHQc"
   },
   "outputs": [],
   "source": [
    "with tarfile.open(dataset_path, 'r:gz') as tar:\n",
    "    tar.extractall('./data/')"
   ]
  },
  {
   "cell_type": "code",
   "execution_count": 9,
   "metadata": {
    "executionInfo": {
     "elapsed": 8,
     "status": "ok",
     "timestamp": 1734975364175,
     "user": {
      "displayName": "Данил Терешин",
      "userId": "12554915802224218745"
     },
     "user_tz": -180
    },
    "id": "IftYOFmjALZn"
   },
   "outputs": [],
   "source": [
    "new_dataset_path = Path('./data/dichalcogenides_public')"
   ]
  },
  {
   "cell_type": "code",
   "execution_count": 10,
   "metadata": {
    "executionInfo": {
     "elapsed": 8,
     "status": "ok",
     "timestamp": 1734975364175,
     "user": {
      "displayName": "Данил Терешин",
      "userId": "12554915802224218745"
     },
     "user_tz": -180
    },
    "id": "rSR-yQDTAQQg"
   },
   "outputs": [],
   "source": [
    "def read_pymatgen_dict(file):\n",
    "    with open(file, \"r\") as f:\n",
    "        d = json.load(f)\n",
    "    return Structure.from_dict(d)"
   ]
  },
  {
   "cell_type": "code",
   "execution_count": 11,
   "metadata": {
    "executionInfo": {
     "elapsed": 7,
     "status": "ok",
     "timestamp": 1734975364175,
     "user": {
      "displayName": "Данил Терешин",
      "userId": "12554915802224218745"
     },
     "user_tz": -180
    },
    "id": "qL4bmEu4ASsb"
   },
   "outputs": [],
   "source": [
    "targets = pd.read_csv(new_dataset_path / \"targets.csv\", index_col=0)"
   ]
  },
  {
   "cell_type": "code",
   "execution_count": 12,
   "metadata": {
    "colab": {
     "base_uri": "https://localhost:8080/",
     "height": 235
    },
    "executionInfo": {
     "elapsed": 8,
     "status": "ok",
     "timestamp": 1734975364176,
     "user": {
      "displayName": "Данил Терешин",
      "userId": "12554915802224218745"
     },
     "user_tz": -180
    },
    "id": "mLfXvLWSAVCq",
    "outputId": "687eb4f4-f430-490b-f67b-2b9bc225a354"
   },
   "outputs": [
    {
     "data": {
      "application/vnd.google.colaboratory.intrinsic+json": {
       "summary": "{\n  \"name\": \"targets\",\n  \"rows\": 5,\n  \"fields\": [\n    {\n      \"column\": \"_id\",\n      \"properties\": {\n        \"dtype\": \"string\",\n        \"num_unique_values\": 5,\n        \"samples\": [\n          \"61428f53baaf234b35290706\",\n          \"6141e3903ac25c70a5c6c997\",\n          \"6141d9ce4e27a1844a5f0258\"\n        ],\n        \"semantic_type\": \"\",\n        \"description\": \"\"\n      }\n    },\n    {\n      \"column\": \"band_gap\",\n      \"properties\": {\n        \"dtype\": \"number\",\n        \"std\": 0.3206116919265422,\n        \"min\": 0.4075999999999999,\n        \"max\": 1.1451,\n        \"num_unique_values\": 5,\n        \"samples\": [\n          1.059,\n          0.4075999999999999,\n          1.1387\n        ],\n        \"semantic_type\": \"\",\n        \"description\": \"\"\n      }\n    }\n  ]\n}",
       "type": "dataframe"
      },
      "text/html": [
       "\n",
       "  <div id=\"df-e19b2cd2-9208-4376-bc10-44f02b5001b5\" class=\"colab-df-container\">\n",
       "    <div>\n",
       "<style scoped>\n",
       "    .dataframe tbody tr th:only-of-type {\n",
       "        vertical-align: middle;\n",
       "    }\n",
       "\n",
       "    .dataframe tbody tr th {\n",
       "        vertical-align: top;\n",
       "    }\n",
       "\n",
       "    .dataframe thead th {\n",
       "        text-align: right;\n",
       "    }\n",
       "</style>\n",
       "<table border=\"1\" class=\"dataframe\">\n",
       "  <thead>\n",
       "    <tr style=\"text-align: right;\">\n",
       "      <th></th>\n",
       "      <th>band_gap</th>\n",
       "    </tr>\n",
       "    <tr>\n",
       "      <th>_id</th>\n",
       "      <th></th>\n",
       "    </tr>\n",
       "  </thead>\n",
       "  <tbody>\n",
       "    <tr>\n",
       "      <th>6141e1014e27a1844a5f0318</th>\n",
       "      <td>1.1377</td>\n",
       "    </tr>\n",
       "    <tr>\n",
       "      <th>61428f53baaf234b35290706</th>\n",
       "      <td>1.0590</td>\n",
       "    </tr>\n",
       "    <tr>\n",
       "      <th>6141d9ce4e27a1844a5f0258</th>\n",
       "      <td>1.1387</td>\n",
       "    </tr>\n",
       "    <tr>\n",
       "      <th>6141dece4e27a1844a5f02e6</th>\n",
       "      <td>1.1451</td>\n",
       "    </tr>\n",
       "    <tr>\n",
       "      <th>6141e3903ac25c70a5c6c997</th>\n",
       "      <td>0.4076</td>\n",
       "    </tr>\n",
       "  </tbody>\n",
       "</table>\n",
       "</div>\n",
       "    <div class=\"colab-df-buttons\">\n",
       "\n",
       "  <div class=\"colab-df-container\">\n",
       "    <button class=\"colab-df-convert\" onclick=\"convertToInteractive('df-e19b2cd2-9208-4376-bc10-44f02b5001b5')\"\n",
       "            title=\"Convert this dataframe to an interactive table.\"\n",
       "            style=\"display:none;\">\n",
       "\n",
       "  <svg xmlns=\"http://www.w3.org/2000/svg\" height=\"24px\" viewBox=\"0 -960 960 960\">\n",
       "    <path d=\"M120-120v-720h720v720H120Zm60-500h600v-160H180v160Zm220 220h160v-160H400v160Zm0 220h160v-160H400v160ZM180-400h160v-160H180v160Zm440 0h160v-160H620v160ZM180-180h160v-160H180v160Zm440 0h160v-160H620v160Z\"/>\n",
       "  </svg>\n",
       "    </button>\n",
       "\n",
       "  <style>\n",
       "    .colab-df-container {\n",
       "      display:flex;\n",
       "      gap: 12px;\n",
       "    }\n",
       "\n",
       "    .colab-df-convert {\n",
       "      background-color: #E8F0FE;\n",
       "      border: none;\n",
       "      border-radius: 50%;\n",
       "      cursor: pointer;\n",
       "      display: none;\n",
       "      fill: #1967D2;\n",
       "      height: 32px;\n",
       "      padding: 0 0 0 0;\n",
       "      width: 32px;\n",
       "    }\n",
       "\n",
       "    .colab-df-convert:hover {\n",
       "      background-color: #E2EBFA;\n",
       "      box-shadow: 0px 1px 2px rgba(60, 64, 67, 0.3), 0px 1px 3px 1px rgba(60, 64, 67, 0.15);\n",
       "      fill: #174EA6;\n",
       "    }\n",
       "\n",
       "    .colab-df-buttons div {\n",
       "      margin-bottom: 4px;\n",
       "    }\n",
       "\n",
       "    [theme=dark] .colab-df-convert {\n",
       "      background-color: #3B4455;\n",
       "      fill: #D2E3FC;\n",
       "    }\n",
       "\n",
       "    [theme=dark] .colab-df-convert:hover {\n",
       "      background-color: #434B5C;\n",
       "      box-shadow: 0px 1px 3px 1px rgba(0, 0, 0, 0.15);\n",
       "      filter: drop-shadow(0px 1px 2px rgba(0, 0, 0, 0.3));\n",
       "      fill: #FFFFFF;\n",
       "    }\n",
       "  </style>\n",
       "\n",
       "    <script>\n",
       "      const buttonEl =\n",
       "        document.querySelector('#df-e19b2cd2-9208-4376-bc10-44f02b5001b5 button.colab-df-convert');\n",
       "      buttonEl.style.display =\n",
       "        google.colab.kernel.accessAllowed ? 'block' : 'none';\n",
       "\n",
       "      async function convertToInteractive(key) {\n",
       "        const element = document.querySelector('#df-e19b2cd2-9208-4376-bc10-44f02b5001b5');\n",
       "        const dataTable =\n",
       "          await google.colab.kernel.invokeFunction('convertToInteractive',\n",
       "                                                    [key], {});\n",
       "        if (!dataTable) return;\n",
       "\n",
       "        const docLinkHtml = 'Like what you see? Visit the ' +\n",
       "          '<a target=\"_blank\" href=https://colab.research.google.com/notebooks/data_table.ipynb>data table notebook</a>'\n",
       "          + ' to learn more about interactive tables.';\n",
       "        element.innerHTML = '';\n",
       "        dataTable['output_type'] = 'display_data';\n",
       "        await google.colab.output.renderOutput(dataTable, element);\n",
       "        const docLink = document.createElement('div');\n",
       "        docLink.innerHTML = docLinkHtml;\n",
       "        element.appendChild(docLink);\n",
       "      }\n",
       "    </script>\n",
       "  </div>\n",
       "\n",
       "\n",
       "<div id=\"df-a8a44588-e5cb-47d4-8601-d699947f206f\">\n",
       "  <button class=\"colab-df-quickchart\" onclick=\"quickchart('df-a8a44588-e5cb-47d4-8601-d699947f206f')\"\n",
       "            title=\"Suggest charts\"\n",
       "            style=\"display:none;\">\n",
       "\n",
       "<svg xmlns=\"http://www.w3.org/2000/svg\" height=\"24px\"viewBox=\"0 0 24 24\"\n",
       "     width=\"24px\">\n",
       "    <g>\n",
       "        <path d=\"M19 3H5c-1.1 0-2 .9-2 2v14c0 1.1.9 2 2 2h14c1.1 0 2-.9 2-2V5c0-1.1-.9-2-2-2zM9 17H7v-7h2v7zm4 0h-2V7h2v10zm4 0h-2v-4h2v4z\"/>\n",
       "    </g>\n",
       "</svg>\n",
       "  </button>\n",
       "\n",
       "<style>\n",
       "  .colab-df-quickchart {\n",
       "      --bg-color: #E8F0FE;\n",
       "      --fill-color: #1967D2;\n",
       "      --hover-bg-color: #E2EBFA;\n",
       "      --hover-fill-color: #174EA6;\n",
       "      --disabled-fill-color: #AAA;\n",
       "      --disabled-bg-color: #DDD;\n",
       "  }\n",
       "\n",
       "  [theme=dark] .colab-df-quickchart {\n",
       "      --bg-color: #3B4455;\n",
       "      --fill-color: #D2E3FC;\n",
       "      --hover-bg-color: #434B5C;\n",
       "      --hover-fill-color: #FFFFFF;\n",
       "      --disabled-bg-color: #3B4455;\n",
       "      --disabled-fill-color: #666;\n",
       "  }\n",
       "\n",
       "  .colab-df-quickchart {\n",
       "    background-color: var(--bg-color);\n",
       "    border: none;\n",
       "    border-radius: 50%;\n",
       "    cursor: pointer;\n",
       "    display: none;\n",
       "    fill: var(--fill-color);\n",
       "    height: 32px;\n",
       "    padding: 0;\n",
       "    width: 32px;\n",
       "  }\n",
       "\n",
       "  .colab-df-quickchart:hover {\n",
       "    background-color: var(--hover-bg-color);\n",
       "    box-shadow: 0 1px 2px rgba(60, 64, 67, 0.3), 0 1px 3px 1px rgba(60, 64, 67, 0.15);\n",
       "    fill: var(--button-hover-fill-color);\n",
       "  }\n",
       "\n",
       "  .colab-df-quickchart-complete:disabled,\n",
       "  .colab-df-quickchart-complete:disabled:hover {\n",
       "    background-color: var(--disabled-bg-color);\n",
       "    fill: var(--disabled-fill-color);\n",
       "    box-shadow: none;\n",
       "  }\n",
       "\n",
       "  .colab-df-spinner {\n",
       "    border: 2px solid var(--fill-color);\n",
       "    border-color: transparent;\n",
       "    border-bottom-color: var(--fill-color);\n",
       "    animation:\n",
       "      spin 1s steps(1) infinite;\n",
       "  }\n",
       "\n",
       "  @keyframes spin {\n",
       "    0% {\n",
       "      border-color: transparent;\n",
       "      border-bottom-color: var(--fill-color);\n",
       "      border-left-color: var(--fill-color);\n",
       "    }\n",
       "    20% {\n",
       "      border-color: transparent;\n",
       "      border-left-color: var(--fill-color);\n",
       "      border-top-color: var(--fill-color);\n",
       "    }\n",
       "    30% {\n",
       "      border-color: transparent;\n",
       "      border-left-color: var(--fill-color);\n",
       "      border-top-color: var(--fill-color);\n",
       "      border-right-color: var(--fill-color);\n",
       "    }\n",
       "    40% {\n",
       "      border-color: transparent;\n",
       "      border-right-color: var(--fill-color);\n",
       "      border-top-color: var(--fill-color);\n",
       "    }\n",
       "    60% {\n",
       "      border-color: transparent;\n",
       "      border-right-color: var(--fill-color);\n",
       "    }\n",
       "    80% {\n",
       "      border-color: transparent;\n",
       "      border-right-color: var(--fill-color);\n",
       "      border-bottom-color: var(--fill-color);\n",
       "    }\n",
       "    90% {\n",
       "      border-color: transparent;\n",
       "      border-bottom-color: var(--fill-color);\n",
       "    }\n",
       "  }\n",
       "</style>\n",
       "\n",
       "  <script>\n",
       "    async function quickchart(key) {\n",
       "      const quickchartButtonEl =\n",
       "        document.querySelector('#' + key + ' button');\n",
       "      quickchartButtonEl.disabled = true;  // To prevent multiple clicks.\n",
       "      quickchartButtonEl.classList.add('colab-df-spinner');\n",
       "      try {\n",
       "        const charts = await google.colab.kernel.invokeFunction(\n",
       "            'suggestCharts', [key], {});\n",
       "      } catch (error) {\n",
       "        console.error('Error during call to suggestCharts:', error);\n",
       "      }\n",
       "      quickchartButtonEl.classList.remove('colab-df-spinner');\n",
       "      quickchartButtonEl.classList.add('colab-df-quickchart-complete');\n",
       "    }\n",
       "    (() => {\n",
       "      let quickchartButtonEl =\n",
       "        document.querySelector('#df-a8a44588-e5cb-47d4-8601-d699947f206f button');\n",
       "      quickchartButtonEl.style.display =\n",
       "        google.colab.kernel.accessAllowed ? 'block' : 'none';\n",
       "    })();\n",
       "  </script>\n",
       "</div>\n",
       "    </div>\n",
       "  </div>\n"
      ],
      "text/plain": [
       "                          band_gap\n",
       "_id                               \n",
       "6141e1014e27a1844a5f0318    1.1377\n",
       "61428f53baaf234b35290706    1.0590\n",
       "6141d9ce4e27a1844a5f0258    1.1387\n",
       "6141dece4e27a1844a5f02e6    1.1451\n",
       "6141e3903ac25c70a5c6c997    0.4076"
      ]
     },
     "execution_count": 12,
     "metadata": {},
     "output_type": "execute_result"
    }
   ],
   "source": [
    "targets.sample(5)"
   ]
  },
  {
   "cell_type": "code",
   "execution_count": 13,
   "metadata": {
    "executionInfo": {
     "elapsed": 37309,
     "status": "ok",
     "timestamp": 1734975401479,
     "user": {
      "displayName": "Данил Терешин",
      "userId": "12554915802224218745"
     },
     "user_tz": -180
    },
    "id": "FUYxqedRAWln"
   },
   "outputs": [],
   "source": [
    "struct = {\n",
    "    item.name.strip(\".json\"): read_pymatgen_dict(item)\n",
    "    for item in (new_dataset_path / \"structures\").iterdir()\n",
    "}"
   ]
  },
  {
   "cell_type": "code",
   "execution_count": 14,
   "metadata": {
    "colab": {
     "base_uri": "https://localhost:8080/"
    },
    "executionInfo": {
     "elapsed": 14,
     "status": "ok",
     "timestamp": 1734975401480,
     "user": {
      "displayName": "Данил Терешин",
      "userId": "12554915802224218745"
     },
     "user_tz": -180
    },
    "id": "4F5YGKifB3gR",
    "outputId": "fddeb5f8-e239-4491-f57d-c328c9b277a7"
   },
   "outputs": [
    {
     "data": {
      "text/plain": [
       "Structure Summary\n",
       "Lattice\n",
       "    abc : 25.5225256 25.5225256 14.879004\n",
       " angles : 90.0 90.0 119.99999999999999\n",
       " volume : 8393.668021812642\n",
       "      A : 25.5225256 0.0 1.5628039641098191e-15\n",
       "      B : -12.761262799999994 22.10315553833868 1.5628039641098191e-15\n",
       "      C : 0.0 0.0 14.879004\n",
       "    pbc : True True True\n",
       "PeriodicSite: Mo (1.276e-07, 1.842, 3.72) [0.04167, 0.08333, 0.25]\n",
       "PeriodicSite: Mo (-1.595, 4.605, 3.72) [0.04167, 0.2083, 0.25]\n",
       "PeriodicSite: Mo (-3.19, 7.368, 3.72) [0.04167, 0.3333, 0.25]\n",
       "PeriodicSite: Mo (-4.785, 10.13, 3.72) [0.04167, 0.4583, 0.25]\n",
       "PeriodicSite: Mo (-6.381, 12.89, 3.72) [0.04167, 0.5833, 0.25]\n",
       "PeriodicSite: Mo (-7.976, 15.66, 3.72) [0.04167, 0.7083, 0.25]\n",
       "PeriodicSite: Mo (-9.571, 18.42, 3.72) [0.04167, 0.8333, 0.25]\n",
       "PeriodicSite: Mo (-11.17, 21.18, 3.72) [0.04167, 0.9583, 0.25]\n",
       "PeriodicSite: Mo (3.19, 1.842, 3.72) [0.1667, 0.08333, 0.25]\n",
       "PeriodicSite: Mo (1.595, 4.605, 3.72) [0.1667, 0.2083, 0.25]\n",
       "PeriodicSite: Mo (8.508e-08, 7.368, 3.72) [0.1667, 0.3333, 0.25]\n",
       "PeriodicSite: Mo (-1.595, 10.13, 3.72) [0.1667, 0.4583, 0.25]\n",
       "PeriodicSite: Mo (-3.19, 12.89, 3.72) [0.1667, 0.5833, 0.25]\n",
       "PeriodicSite: Mo (-4.785, 15.66, 3.72) [0.1667, 0.7083, 0.25]\n",
       "PeriodicSite: Mo (-6.381, 18.42, 3.72) [0.1667, 0.8333, 0.25]\n",
       "PeriodicSite: Mo (-7.976, 21.18, 3.72) [0.1667, 0.9583, 0.25]\n",
       "PeriodicSite: Mo (6.381, 1.842, 3.72) [0.2917, 0.08333, 0.25]\n",
       "PeriodicSite: Mo (4.785, 4.605, 3.72) [0.2917, 0.2083, 0.25]\n",
       "PeriodicSite: Mo (3.19, 7.368, 3.72) [0.2917, 0.3333, 0.25]\n",
       "PeriodicSite: Mo (1.595, 10.13, 3.72) [0.2917, 0.4583, 0.25]\n",
       "PeriodicSite: Mo (1.276e-07, 12.89, 3.72) [0.2917, 0.5833, 0.25]\n",
       "PeriodicSite: Mo (-1.595, 15.66, 3.72) [0.2917, 0.7083, 0.25]\n",
       "PeriodicSite: Mo (-3.19, 18.42, 3.72) [0.2917, 0.8333, 0.25]\n",
       "PeriodicSite: Mo (-4.785, 21.18, 3.72) [0.2917, 0.9583, 0.25]\n",
       "PeriodicSite: Mo (9.571, 1.842, 3.72) [0.4167, 0.08333, 0.25]\n",
       "PeriodicSite: Mo (7.976, 4.605, 3.72) [0.4167, 0.2083, 0.25]\n",
       "PeriodicSite: Mo (6.381, 7.368, 3.72) [0.4167, 0.3333, 0.25]\n",
       "PeriodicSite: Mo (4.785, 10.13, 3.72) [0.4167, 0.4583, 0.25]\n",
       "PeriodicSite: Mo (3.19, 12.89, 3.72) [0.4167, 0.5833, 0.25]\n",
       "PeriodicSite: Mo (1.595, 15.66, 3.72) [0.4167, 0.7083, 0.25]\n",
       "PeriodicSite: Mo (1.276e-07, 18.42, 3.72) [0.4167, 0.8333, 0.25]\n",
       "PeriodicSite: Mo (-1.595, 21.18, 3.72) [0.4167, 0.9583, 0.25]\n",
       "PeriodicSite: Mo (12.76, 1.842, 3.72) [0.5417, 0.08333, 0.25]\n",
       "PeriodicSite: Mo (11.17, 4.605, 3.72) [0.5417, 0.2083, 0.25]\n",
       "PeriodicSite: Mo (9.571, 7.368, 3.72) [0.5417, 0.3333, 0.25]\n",
       "PeriodicSite: Mo (7.976, 10.13, 3.72) [0.5417, 0.4583, 0.25]\n",
       "PeriodicSite: Mo (6.381, 12.89, 3.72) [0.5417, 0.5833, 0.25]\n",
       "PeriodicSite: Mo (4.785, 15.66, 3.72) [0.5417, 0.7083, 0.25]\n",
       "PeriodicSite: Mo (3.19, 18.42, 3.72) [0.5417, 0.8333, 0.25]\n",
       "PeriodicSite: Mo (1.595, 21.18, 3.72) [0.5417, 0.9583, 0.25]\n",
       "PeriodicSite: Mo (15.95, 1.842, 3.72) [0.6667, 0.08333, 0.25]\n",
       "PeriodicSite: Mo (14.36, 4.605, 3.72) [0.6667, 0.2083, 0.25]\n",
       "PeriodicSite: Mo (12.76, 7.368, 3.72) [0.6667, 0.3333, 0.25]\n",
       "PeriodicSite: Mo (11.17, 10.13, 3.72) [0.6667, 0.4583, 0.25]\n",
       "PeriodicSite: Mo (9.571, 12.89, 3.72) [0.6667, 0.5833, 0.25]\n",
       "PeriodicSite: Mo (7.976, 15.66, 3.72) [0.6667, 0.7083, 0.25]\n",
       "PeriodicSite: Mo (6.381, 18.42, 3.72) [0.6667, 0.8333, 0.25]\n",
       "PeriodicSite: Mo (4.785, 21.18, 3.72) [0.6667, 0.9583, 0.25]\n",
       "PeriodicSite: Mo (19.14, 1.842, 3.72) [0.7917, 0.08333, 0.25]\n",
       "PeriodicSite: Mo (17.55, 4.605, 3.72) [0.7917, 0.2083, 0.25]\n",
       "PeriodicSite: Mo (15.95, 7.368, 3.72) [0.7917, 0.3333, 0.25]\n",
       "PeriodicSite: Mo (14.36, 10.13, 3.72) [0.7917, 0.4583, 0.25]\n",
       "PeriodicSite: Mo (12.76, 12.89, 3.72) [0.7917, 0.5833, 0.25]\n",
       "PeriodicSite: Mo (11.17, 15.66, 3.72) [0.7917, 0.7083, 0.25]\n",
       "PeriodicSite: Mo (9.571, 18.42, 3.72) [0.7917, 0.8333, 0.25]\n",
       "PeriodicSite: Mo (7.976, 21.18, 3.72) [0.7917, 0.9583, 0.25]\n",
       "PeriodicSite: Mo (22.33, 1.842, 3.72) [0.9167, 0.08333, 0.25]\n",
       "PeriodicSite: Mo (20.74, 4.605, 3.72) [0.9167, 0.2083, 0.25]\n",
       "PeriodicSite: Mo (19.14, 7.368, 3.72) [0.9167, 0.3333, 0.25]\n",
       "PeriodicSite: Mo (17.55, 10.13, 3.72) [0.9167, 0.4583, 0.25]\n",
       "PeriodicSite: Mo (15.95, 12.89, 3.72) [0.9167, 0.5833, 0.25]\n",
       "PeriodicSite: Mo (14.36, 15.66, 3.72) [0.9167, 0.7083, 0.25]\n",
       "PeriodicSite: Mo (12.76, 18.42, 3.72) [0.9167, 0.8333, 0.25]\n",
       "PeriodicSite: Mo (11.17, 21.18, 3.72) [0.9167, 0.9583, 0.25]\n",
       "PeriodicSite: S (1.595, 0.921, 2.155) [0.08333, 0.04167, 0.1448]\n",
       "PeriodicSite: S (-1.276e-07, 3.684, 2.155) [0.08333, 0.1667, 0.1448]\n",
       "PeriodicSite: S (-1.595, 6.447, 2.155) [0.08333, 0.2917, 0.1448]\n",
       "PeriodicSite: S (-3.19, 9.21, 2.155) [0.08333, 0.4167, 0.1448]\n",
       "PeriodicSite: S (-4.785, 11.97, 2.155) [0.08333, 0.5417, 0.1448]\n",
       "PeriodicSite: S (-6.381, 14.74, 2.155) [0.08333, 0.6667, 0.1448]\n",
       "PeriodicSite: S (-7.976, 17.5, 2.155) [0.08333, 0.7917, 0.1448]\n",
       "PeriodicSite: S (-9.571, 20.26, 2.155) [0.08333, 0.9167, 0.1448]\n",
       "PeriodicSite: S (4.785, 0.921, 2.155) [0.2083, 0.04167, 0.1448]\n",
       "PeriodicSite: S (3.19, 3.684, 2.155) [0.2083, 0.1667, 0.1448]\n",
       "PeriodicSite: S (1.595, 6.447, 2.155) [0.2083, 0.2917, 0.1448]\n",
       "PeriodicSite: S (-1.276e-07, 9.21, 2.155) [0.2083, 0.4167, 0.1448]\n",
       "PeriodicSite: S (-1.595, 11.97, 2.155) [0.2083, 0.5417, 0.1448]\n",
       "PeriodicSite: S (-3.19, 14.74, 2.155) [0.2083, 0.6667, 0.1448]\n",
       "PeriodicSite: S (-4.785, 17.5, 2.155) [0.2083, 0.7917, 0.1448]\n",
       "PeriodicSite: S (-6.381, 20.26, 2.155) [0.2083, 0.9167, 0.1448]\n",
       "PeriodicSite: S (7.976, 0.921, 2.155) [0.3333, 0.04167, 0.1448]\n",
       "PeriodicSite: S (6.381, 3.684, 2.155) [0.3333, 0.1667, 0.1448]\n",
       "PeriodicSite: S (4.785, 6.447, 2.155) [0.3333, 0.2917, 0.1448]\n",
       "PeriodicSite: S (3.19, 9.21, 2.155) [0.3333, 0.4167, 0.1448]\n",
       "PeriodicSite: S (1.595, 11.97, 2.155) [0.3333, 0.5417, 0.1448]\n",
       "PeriodicSite: S (3.553e-15, 14.74, 2.155) [0.3333, 0.6667, 0.1448]\n",
       "PeriodicSite: S (-1.595, 17.5, 2.155) [0.3333, 0.7917, 0.1448]\n",
       "PeriodicSite: S (-3.19, 20.26, 2.155) [0.3333, 0.9167, 0.1448]\n",
       "PeriodicSite: S (11.17, 0.921, 2.155) [0.4583, 0.04167, 0.1448]\n",
       "PeriodicSite: S (9.571, 3.684, 2.155) [0.4583, 0.1667, 0.1448]\n",
       "PeriodicSite: S (7.976, 6.447, 2.155) [0.4583, 0.2917, 0.1448]\n",
       "PeriodicSite: S (6.381, 9.21, 2.155) [0.4583, 0.4167, 0.1448]\n",
       "PeriodicSite: S (4.785, 11.97, 2.155) [0.4583, 0.5417, 0.1448]\n",
       "PeriodicSite: S (3.19, 14.74, 2.155) [0.4583, 0.6667, 0.1448]\n",
       "PeriodicSite: S (1.595, 17.5, 2.155) [0.4583, 0.7917, 0.1448]\n",
       "PeriodicSite: S (-1.276e-07, 20.26, 2.155) [0.4583, 0.9167, 0.1448]\n",
       "PeriodicSite: S (14.36, 0.921, 2.155) [0.5833, 0.04167, 0.1448]\n",
       "PeriodicSite: S (12.76, 3.684, 2.155) [0.5833, 0.1667, 0.1448]\n",
       "PeriodicSite: S (11.17, 6.447, 2.155) [0.5833, 0.2917, 0.1448]\n",
       "PeriodicSite: S (9.571, 9.21, 2.155) [0.5833, 0.4167, 0.1448]\n",
       "PeriodicSite: S (7.976, 11.97, 2.155) [0.5833, 0.5417, 0.1448]\n",
       "PeriodicSite: S (6.381, 14.74, 2.155) [0.5833, 0.6667, 0.1448]\n",
       "PeriodicSite: S (4.785, 17.5, 2.155) [0.5833, 0.7917, 0.1448]\n",
       "PeriodicSite: S (3.19, 20.26, 2.155) [0.5833, 0.9167, 0.1448]\n",
       "PeriodicSite: S (17.55, 0.921, 2.155) [0.7083, 0.04167, 0.1448]\n",
       "PeriodicSite: S (15.95, 3.684, 2.155) [0.7083, 0.1667, 0.1448]\n",
       "PeriodicSite: S (12.76, 9.21, 2.155) [0.7083, 0.4167, 0.1448]\n",
       "PeriodicSite: S (11.17, 11.97, 2.155) [0.7083, 0.5417, 0.1448]\n",
       "PeriodicSite: S (9.571, 14.74, 2.155) [0.7083, 0.6667, 0.1448]\n",
       "PeriodicSite: S (7.976, 17.5, 2.155) [0.7083, 0.7917, 0.1448]\n",
       "PeriodicSite: S (6.381, 20.26, 2.155) [0.7083, 0.9167, 0.1448]\n",
       "PeriodicSite: S (20.74, 0.921, 2.155) [0.8333, 0.04167, 0.1448]\n",
       "PeriodicSite: S (19.14, 3.684, 2.155) [0.8333, 0.1667, 0.1448]\n",
       "PeriodicSite: S (17.55, 6.447, 2.155) [0.8333, 0.2917, 0.1448]\n",
       "PeriodicSite: S (15.95, 9.21, 2.155) [0.8333, 0.4167, 0.1448]\n",
       "PeriodicSite: S (14.36, 11.97, 2.155) [0.8333, 0.5417, 0.1448]\n",
       "PeriodicSite: S (12.76, 14.74, 2.155) [0.8333, 0.6667, 0.1448]\n",
       "PeriodicSite: S (11.17, 17.5, 2.155) [0.8333, 0.7917, 0.1448]\n",
       "PeriodicSite: S (9.571, 20.26, 2.155) [0.8333, 0.9167, 0.1448]\n",
       "PeriodicSite: S (23.93, 0.921, 2.155) [0.9583, 0.04167, 0.1448]\n",
       "PeriodicSite: S (22.33, 3.684, 2.155) [0.9583, 0.1667, 0.1448]\n",
       "PeriodicSite: S (20.74, 6.447, 2.155) [0.9583, 0.2917, 0.1448]\n",
       "PeriodicSite: S (19.14, 9.21, 2.155) [0.9583, 0.4167, 0.1448]\n",
       "PeriodicSite: S (17.55, 11.97, 2.155) [0.9583, 0.5417, 0.1448]\n",
       "PeriodicSite: S (15.95, 14.74, 2.155) [0.9583, 0.6667, 0.1448]\n",
       "PeriodicSite: S (14.36, 17.5, 2.155) [0.9583, 0.7917, 0.1448]\n",
       "PeriodicSite: S (12.76, 20.26, 2.155) [0.9583, 0.9167, 0.1448]\n",
       "PeriodicSite: S (1.595, 0.921, 5.285) [0.08333, 0.04167, 0.3552]\n",
       "PeriodicSite: S (-1.276e-07, 3.684, 5.285) [0.08333, 0.1667, 0.3552]\n",
       "PeriodicSite: S (-1.595, 6.447, 5.285) [0.08333, 0.2917, 0.3552]\n",
       "PeriodicSite: S (-3.19, 9.21, 5.285) [0.08333, 0.4167, 0.3552]\n",
       "PeriodicSite: S (-4.785, 11.97, 5.285) [0.08333, 0.5417, 0.3552]\n",
       "PeriodicSite: S (-6.381, 14.74, 5.285) [0.08333, 0.6667, 0.3552]\n",
       "PeriodicSite: S (-7.976, 17.5, 5.285) [0.08333, 0.7917, 0.3552]\n",
       "PeriodicSite: S (-9.571, 20.26, 5.285) [0.08333, 0.9167, 0.3552]\n",
       "PeriodicSite: S (4.785, 0.921, 5.285) [0.2083, 0.04167, 0.3552]\n",
       "PeriodicSite: S (3.19, 3.684, 5.285) [0.2083, 0.1667, 0.3552]\n",
       "PeriodicSite: S (1.595, 6.447, 5.285) [0.2083, 0.2917, 0.3552]\n",
       "PeriodicSite: S (-1.276e-07, 9.21, 5.285) [0.2083, 0.4167, 0.3552]\n",
       "PeriodicSite: S (-1.595, 11.97, 5.285) [0.2083, 0.5417, 0.3552]\n",
       "PeriodicSite: S (-3.19, 14.74, 5.285) [0.2083, 0.6667, 0.3552]\n",
       "PeriodicSite: S (-4.785, 17.5, 5.285) [0.2083, 0.7917, 0.3552]\n",
       "PeriodicSite: S (-6.381, 20.26, 5.285) [0.2083, 0.9167, 0.3552]\n",
       "PeriodicSite: S (7.976, 0.921, 5.285) [0.3333, 0.04167, 0.3552]\n",
       "PeriodicSite: S (6.381, 3.684, 5.285) [0.3333, 0.1667, 0.3552]\n",
       "PeriodicSite: S (4.785, 6.447, 5.285) [0.3333, 0.2917, 0.3552]\n",
       "PeriodicSite: S (3.19, 9.21, 5.285) [0.3333, 0.4167, 0.3552]\n",
       "PeriodicSite: S (1.595, 11.97, 5.285) [0.3333, 0.5417, 0.3552]\n",
       "PeriodicSite: S (3.553e-15, 14.74, 5.285) [0.3333, 0.6667, 0.3552]\n",
       "PeriodicSite: S (-1.595, 17.5, 5.285) [0.3333, 0.7917, 0.3552]\n",
       "PeriodicSite: S (-3.19, 20.26, 5.285) [0.3333, 0.9167, 0.3552]\n",
       "PeriodicSite: S (11.17, 0.921, 5.285) [0.4583, 0.04167, 0.3552]\n",
       "PeriodicSite: S (9.571, 3.684, 5.285) [0.4583, 0.1667, 0.3552]\n",
       "PeriodicSite: S (7.976, 6.447, 5.285) [0.4583, 0.2917, 0.3552]\n",
       "PeriodicSite: S (6.381, 9.21, 5.285) [0.4583, 0.4167, 0.3552]\n",
       "PeriodicSite: S (4.785, 11.97, 5.285) [0.4583, 0.5417, 0.3552]\n",
       "PeriodicSite: S (3.19, 14.74, 5.285) [0.4583, 0.6667, 0.3552]\n",
       "PeriodicSite: S (1.595, 17.5, 5.285) [0.4583, 0.7917, 0.3552]\n",
       "PeriodicSite: S (-1.276e-07, 20.26, 5.285) [0.4583, 0.9167, 0.3552]\n",
       "PeriodicSite: S (14.36, 0.921, 5.285) [0.5833, 0.04167, 0.3552]\n",
       "PeriodicSite: S (12.76, 3.684, 5.285) [0.5833, 0.1667, 0.3552]\n",
       "PeriodicSite: S (11.17, 6.447, 5.285) [0.5833, 0.2917, 0.3552]\n",
       "PeriodicSite: S (7.976, 11.97, 5.285) [0.5833, 0.5417, 0.3552]\n",
       "PeriodicSite: S (6.381, 14.74, 5.285) [0.5833, 0.6667, 0.3552]\n",
       "PeriodicSite: S (4.785, 17.5, 5.285) [0.5833, 0.7917, 0.3552]\n",
       "PeriodicSite: S (3.19, 20.26, 5.285) [0.5833, 0.9167, 0.3552]\n",
       "PeriodicSite: S (17.55, 0.921, 5.285) [0.7083, 0.04167, 0.3552]\n",
       "PeriodicSite: S (15.95, 3.684, 5.285) [0.7083, 0.1667, 0.3552]\n",
       "PeriodicSite: S (14.36, 6.447, 5.285) [0.7083, 0.2917, 0.3552]\n",
       "PeriodicSite: S (12.76, 9.21, 5.285) [0.7083, 0.4167, 0.3552]\n",
       "PeriodicSite: S (11.17, 11.97, 5.285) [0.7083, 0.5417, 0.3552]\n",
       "PeriodicSite: S (9.571, 14.74, 5.285) [0.7083, 0.6667, 0.3552]\n",
       "PeriodicSite: S (7.976, 17.5, 5.285) [0.7083, 0.7917, 0.3552]\n",
       "PeriodicSite: S (6.381, 20.26, 5.285) [0.7083, 0.9167, 0.3552]\n",
       "PeriodicSite: S (20.74, 0.921, 5.285) [0.8333, 0.04167, 0.3552]\n",
       "PeriodicSite: S (19.14, 3.684, 5.285) [0.8333, 0.1667, 0.3552]\n",
       "PeriodicSite: S (17.55, 6.447, 5.285) [0.8333, 0.2917, 0.3552]\n",
       "PeriodicSite: S (15.95, 9.21, 5.285) [0.8333, 0.4167, 0.3552]\n",
       "PeriodicSite: S (14.36, 11.97, 5.285) [0.8333, 0.5417, 0.3552]\n",
       "PeriodicSite: S (12.76, 14.74, 5.285) [0.8333, 0.6667, 0.3552]\n",
       "PeriodicSite: S (11.17, 17.5, 5.285) [0.8333, 0.7917, 0.3552]\n",
       "PeriodicSite: S (9.571, 20.26, 5.285) [0.8333, 0.9167, 0.3552]\n",
       "PeriodicSite: S (23.93, 0.921, 5.285) [0.9583, 0.04167, 0.3552]\n",
       "PeriodicSite: S (22.33, 3.684, 5.285) [0.9583, 0.1667, 0.3552]\n",
       "PeriodicSite: S (20.74, 6.447, 5.285) [0.9583, 0.2917, 0.3552]\n",
       "PeriodicSite: S (19.14, 9.21, 5.285) [0.9583, 0.4167, 0.3552]\n",
       "PeriodicSite: S (17.55, 11.97, 5.285) [0.9583, 0.5417, 0.3552]\n",
       "PeriodicSite: S (15.95, 14.74, 5.285) [0.9583, 0.6667, 0.3552]\n",
       "PeriodicSite: S (14.36, 17.5, 5.285) [0.9583, 0.7917, 0.3552]\n",
       "PeriodicSite: S (12.76, 20.26, 5.285) [0.9583, 0.9167, 0.3552]"
      ]
     },
     "execution_count": 14,
     "metadata": {},
     "output_type": "execute_result"
    }
   ],
   "source": [
    "struct['6141cf0f51c1cbd9654b8870']"
   ]
  },
  {
   "cell_type": "code",
   "execution_count": 15,
   "metadata": {
    "colab": {
     "base_uri": "https://localhost:8080/"
    },
    "executionInfo": {
     "elapsed": 12,
     "status": "ok",
     "timestamp": 1734975401480,
     "user": {
      "displayName": "Данил Терешин",
      "userId": "12554915802224218745"
     },
     "user_tz": -180
    },
    "id": "sF_0ONEwXLwM",
    "outputId": "c94be930-01b7-4ed3-d2e3-4da096495099"
   },
   "outputs": [
    {
     "name": "stdout",
     "output_type": "stream",
     "text": [
      "Mo63 W1 S126\n",
      "Mo64 S126\n",
      "Mo63 W1 Se1 S126\n"
     ]
    }
   ],
   "source": [
    "print(struct['6141cf26baaf234b352901a6'].composition)\n",
    "print(struct['6141cf0f51c1cbd9654b8870'].composition)\n",
    "print(struct['6141cf254e27a1844a5f0018'].composition)"
   ]
  },
  {
   "cell_type": "code",
   "execution_count": 16,
   "metadata": {
    "colab": {
     "base_uri": "https://localhost:8080/"
    },
    "executionInfo": {
     "elapsed": 8,
     "status": "ok",
     "timestamp": 1734975401480,
     "user": {
      "displayName": "Данил Терешин",
      "userId": "12554915802224218745"
     },
     "user_tz": -180
    },
    "id": "4dF8O_fOBSTc",
    "outputId": "2a74ec61-d45a-41f6-853a-ac6a67f1800c"
   },
   "outputs": [
    {
     "name": "stdout",
     "output_type": "stream",
     "text": [
      "2.0470128662062193 g cm^-3\n",
      "[1.27612629e-07 1.84192955e+00 3.71975100e+00] Mo\n",
      "Mo63 W1 Se1 S126\n",
      "[Element Mo, Element W, Element Se, Element S]\n",
      "8393.668021812642\n",
      "191\n"
     ]
    }
   ],
   "source": [
    "print(struct['6141cf254e27a1844a5f0018'].density)\n",
    "# print(struct['6141cf254e27a1844a5f0018'].species)\n",
    "print(struct['6141cf254e27a1844a5f0018'][0])\n",
    "print(struct['6141cf254e27a1844a5f0018'].composition)\n",
    "print(struct['6141cf254e27a1844a5f0018'].composition.elements)\n",
    "print(struct['6141cf254e27a1844a5f0018'].volume)\n",
    "print(struct['6141cf254e27a1844a5f0018'].num_sites)"
   ]
  },
  {
   "cell_type": "code",
   "execution_count": 17,
   "metadata": {
    "executionInfo": {
     "elapsed": 4,
     "status": "ok",
     "timestamp": 1734975401480,
     "user": {
      "displayName": "Данил Терешин",
      "userId": "12554915802224218745"
     },
     "user_tz": -180
    },
    "id": "cs8lXJEaAeCw"
   },
   "outputs": [],
   "source": [
    "data = pd.DataFrame(columns=[\"structures\"], index=struct.keys())\n",
    "data = data.assign(structures=struct.values(), targets=targets)"
   ]
  },
  {
   "cell_type": "code",
   "execution_count": 18,
   "metadata": {
    "executionInfo": {
     "elapsed": 3562,
     "status": "ok",
     "timestamp": 1734975405038,
     "user": {
      "displayName": "Данил Терешин",
      "userId": "12554915802224218745"
     },
     "user_tz": -180
    },
    "id": "4bmJySuH6rtS"
   },
   "outputs": [],
   "source": [
    "data['atoms_count'] = data.structures.apply(lambda x: x.num_sites)\n",
    "data['elements_set'] = data.structures.apply(lambda x: x.composition.elements)"
   ]
  },
  {
   "cell_type": "code",
   "execution_count": 19,
   "metadata": {
    "colab": {
     "base_uri": "https://localhost:8080/",
     "height": 204
    },
    "executionInfo": {
     "elapsed": 7,
     "status": "ok",
     "timestamp": 1734975405039,
     "user": {
      "displayName": "Данил Терешин",
      "userId": "12554915802224218745"
     },
     "user_tz": -180
    },
    "id": "VmnKesRO60Q4",
    "outputId": "faa561f4-d085-4ee1-cf13-5479b028ee28"
   },
   "outputs": [
    {
     "data": {
      "application/vnd.google.colaboratory.intrinsic+json": {
       "summary": "{\n  \"name\": \"data\",\n  \"rows\": 5,\n  \"fields\": [\n    {\n      \"column\": \"structures\",\n      \"properties\": {\n        \"dtype\": \"object\",\n        \"semantic_type\": \"\",\n        \"description\": \"\"\n      }\n    },\n    {\n      \"column\": \"targets\",\n      \"properties\": {\n        \"dtype\": \"number\",\n        \"std\": 0.6474592211097159,\n        \"min\": 0.3582,\n        \"max\": 1.8074,\n        \"num_unique_values\": 5,\n        \"samples\": [\n          0.4083,\n          0.3582,\n          1.8074\n        ],\n        \"semantic_type\": \"\",\n        \"description\": \"\"\n      }\n    },\n    {\n      \"column\": \"atoms_count\",\n      \"properties\": {\n        \"dtype\": \"number\",\n        \"std\": 1,\n        \"min\": 189,\n        \"max\": 192,\n        \"num_unique_values\": 3,\n        \"samples\": [\n          191,\n          189,\n          192\n        ],\n        \"semantic_type\": \"\",\n        \"description\": \"\"\n      }\n    },\n    {\n      \"column\": \"elements_set\",\n      \"properties\": {\n        \"dtype\": \"object\",\n        \"semantic_type\": \"\",\n        \"description\": \"\"\n      }\n    }\n  ]\n}",
       "type": "dataframe"
      },
      "text/html": [
       "\n",
       "  <div id=\"df-d3f66d9e-ad0f-4bad-8ffb-1555bc373de0\" class=\"colab-df-container\">\n",
       "    <div>\n",
       "<style scoped>\n",
       "    .dataframe tbody tr th:only-of-type {\n",
       "        vertical-align: middle;\n",
       "    }\n",
       "\n",
       "    .dataframe tbody tr th {\n",
       "        vertical-align: top;\n",
       "    }\n",
       "\n",
       "    .dataframe thead th {\n",
       "        text-align: right;\n",
       "    }\n",
       "</style>\n",
       "<table border=\"1\" class=\"dataframe\">\n",
       "  <thead>\n",
       "    <tr style=\"text-align: right;\">\n",
       "      <th></th>\n",
       "      <th>structures</th>\n",
       "      <th>targets</th>\n",
       "      <th>atoms_count</th>\n",
       "      <th>elements_set</th>\n",
       "    </tr>\n",
       "  </thead>\n",
       "  <tbody>\n",
       "    <tr>\n",
       "      <th>6141db54ee0a3fd43fb47c33</th>\n",
       "      <td>[[1.27612629e-07 1.84192955e+00 3.71975100e+00...</td>\n",
       "      <td>0.3585</td>\n",
       "      <td>191</td>\n",
       "      <td>[Mo, Se, S]</td>\n",
       "    </tr>\n",
       "    <tr>\n",
       "      <th>6141d01d3ac25c70a5c6c883</th>\n",
       "      <td>[[1.27612629e-07 1.84192955e+00 3.71975100e+00...</td>\n",
       "      <td>0.4083</td>\n",
       "      <td>189</td>\n",
       "      <td>[Mo, S]</td>\n",
       "    </tr>\n",
       "    <tr>\n",
       "      <th>6142025c9cbada84a8676c03</th>\n",
       "      <td>[[1.27612629e-07 1.84192955e+00 3.71975100e+00...</td>\n",
       "      <td>1.8074</td>\n",
       "      <td>192</td>\n",
       "      <td>[Mo, W, Se, S]</td>\n",
       "    </tr>\n",
       "    <tr>\n",
       "      <th>6141cf1e4e27a1844a5f000c</th>\n",
       "      <td>[[1.27612629e-07 1.84192955e+00 3.71975100e+00...</td>\n",
       "      <td>1.1459</td>\n",
       "      <td>191</td>\n",
       "      <td>[Mo, W, Se, S]</td>\n",
       "    </tr>\n",
       "    <tr>\n",
       "      <th>6141f6f3ee0a3fd43fb47dc1</th>\n",
       "      <td>[[1.27612629e-07 1.84192955e+00 3.71975100e+00...</td>\n",
       "      <td>0.3582</td>\n",
       "      <td>191</td>\n",
       "      <td>[Mo, Se, S]</td>\n",
       "    </tr>\n",
       "  </tbody>\n",
       "</table>\n",
       "</div>\n",
       "    <div class=\"colab-df-buttons\">\n",
       "\n",
       "  <div class=\"colab-df-container\">\n",
       "    <button class=\"colab-df-convert\" onclick=\"convertToInteractive('df-d3f66d9e-ad0f-4bad-8ffb-1555bc373de0')\"\n",
       "            title=\"Convert this dataframe to an interactive table.\"\n",
       "            style=\"display:none;\">\n",
       "\n",
       "  <svg xmlns=\"http://www.w3.org/2000/svg\" height=\"24px\" viewBox=\"0 -960 960 960\">\n",
       "    <path d=\"M120-120v-720h720v720H120Zm60-500h600v-160H180v160Zm220 220h160v-160H400v160Zm0 220h160v-160H400v160ZM180-400h160v-160H180v160Zm440 0h160v-160H620v160ZM180-180h160v-160H180v160Zm440 0h160v-160H620v160Z\"/>\n",
       "  </svg>\n",
       "    </button>\n",
       "\n",
       "  <style>\n",
       "    .colab-df-container {\n",
       "      display:flex;\n",
       "      gap: 12px;\n",
       "    }\n",
       "\n",
       "    .colab-df-convert {\n",
       "      background-color: #E8F0FE;\n",
       "      border: none;\n",
       "      border-radius: 50%;\n",
       "      cursor: pointer;\n",
       "      display: none;\n",
       "      fill: #1967D2;\n",
       "      height: 32px;\n",
       "      padding: 0 0 0 0;\n",
       "      width: 32px;\n",
       "    }\n",
       "\n",
       "    .colab-df-convert:hover {\n",
       "      background-color: #E2EBFA;\n",
       "      box-shadow: 0px 1px 2px rgba(60, 64, 67, 0.3), 0px 1px 3px 1px rgba(60, 64, 67, 0.15);\n",
       "      fill: #174EA6;\n",
       "    }\n",
       "\n",
       "    .colab-df-buttons div {\n",
       "      margin-bottom: 4px;\n",
       "    }\n",
       "\n",
       "    [theme=dark] .colab-df-convert {\n",
       "      background-color: #3B4455;\n",
       "      fill: #D2E3FC;\n",
       "    }\n",
       "\n",
       "    [theme=dark] .colab-df-convert:hover {\n",
       "      background-color: #434B5C;\n",
       "      box-shadow: 0px 1px 3px 1px rgba(0, 0, 0, 0.15);\n",
       "      filter: drop-shadow(0px 1px 2px rgba(0, 0, 0, 0.3));\n",
       "      fill: #FFFFFF;\n",
       "    }\n",
       "  </style>\n",
       "\n",
       "    <script>\n",
       "      const buttonEl =\n",
       "        document.querySelector('#df-d3f66d9e-ad0f-4bad-8ffb-1555bc373de0 button.colab-df-convert');\n",
       "      buttonEl.style.display =\n",
       "        google.colab.kernel.accessAllowed ? 'block' : 'none';\n",
       "\n",
       "      async function convertToInteractive(key) {\n",
       "        const element = document.querySelector('#df-d3f66d9e-ad0f-4bad-8ffb-1555bc373de0');\n",
       "        const dataTable =\n",
       "          await google.colab.kernel.invokeFunction('convertToInteractive',\n",
       "                                                    [key], {});\n",
       "        if (!dataTable) return;\n",
       "\n",
       "        const docLinkHtml = 'Like what you see? Visit the ' +\n",
       "          '<a target=\"_blank\" href=https://colab.research.google.com/notebooks/data_table.ipynb>data table notebook</a>'\n",
       "          + ' to learn more about interactive tables.';\n",
       "        element.innerHTML = '';\n",
       "        dataTable['output_type'] = 'display_data';\n",
       "        await google.colab.output.renderOutput(dataTable, element);\n",
       "        const docLink = document.createElement('div');\n",
       "        docLink.innerHTML = docLinkHtml;\n",
       "        element.appendChild(docLink);\n",
       "      }\n",
       "    </script>\n",
       "  </div>\n",
       "\n",
       "\n",
       "<div id=\"df-4db66ab9-40f7-4d94-86c1-3b5a79fffa1a\">\n",
       "  <button class=\"colab-df-quickchart\" onclick=\"quickchart('df-4db66ab9-40f7-4d94-86c1-3b5a79fffa1a')\"\n",
       "            title=\"Suggest charts\"\n",
       "            style=\"display:none;\">\n",
       "\n",
       "<svg xmlns=\"http://www.w3.org/2000/svg\" height=\"24px\"viewBox=\"0 0 24 24\"\n",
       "     width=\"24px\">\n",
       "    <g>\n",
       "        <path d=\"M19 3H5c-1.1 0-2 .9-2 2v14c0 1.1.9 2 2 2h14c1.1 0 2-.9 2-2V5c0-1.1-.9-2-2-2zM9 17H7v-7h2v7zm4 0h-2V7h2v10zm4 0h-2v-4h2v4z\"/>\n",
       "    </g>\n",
       "</svg>\n",
       "  </button>\n",
       "\n",
       "<style>\n",
       "  .colab-df-quickchart {\n",
       "      --bg-color: #E8F0FE;\n",
       "      --fill-color: #1967D2;\n",
       "      --hover-bg-color: #E2EBFA;\n",
       "      --hover-fill-color: #174EA6;\n",
       "      --disabled-fill-color: #AAA;\n",
       "      --disabled-bg-color: #DDD;\n",
       "  }\n",
       "\n",
       "  [theme=dark] .colab-df-quickchart {\n",
       "      --bg-color: #3B4455;\n",
       "      --fill-color: #D2E3FC;\n",
       "      --hover-bg-color: #434B5C;\n",
       "      --hover-fill-color: #FFFFFF;\n",
       "      --disabled-bg-color: #3B4455;\n",
       "      --disabled-fill-color: #666;\n",
       "  }\n",
       "\n",
       "  .colab-df-quickchart {\n",
       "    background-color: var(--bg-color);\n",
       "    border: none;\n",
       "    border-radius: 50%;\n",
       "    cursor: pointer;\n",
       "    display: none;\n",
       "    fill: var(--fill-color);\n",
       "    height: 32px;\n",
       "    padding: 0;\n",
       "    width: 32px;\n",
       "  }\n",
       "\n",
       "  .colab-df-quickchart:hover {\n",
       "    background-color: var(--hover-bg-color);\n",
       "    box-shadow: 0 1px 2px rgba(60, 64, 67, 0.3), 0 1px 3px 1px rgba(60, 64, 67, 0.15);\n",
       "    fill: var(--button-hover-fill-color);\n",
       "  }\n",
       "\n",
       "  .colab-df-quickchart-complete:disabled,\n",
       "  .colab-df-quickchart-complete:disabled:hover {\n",
       "    background-color: var(--disabled-bg-color);\n",
       "    fill: var(--disabled-fill-color);\n",
       "    box-shadow: none;\n",
       "  }\n",
       "\n",
       "  .colab-df-spinner {\n",
       "    border: 2px solid var(--fill-color);\n",
       "    border-color: transparent;\n",
       "    border-bottom-color: var(--fill-color);\n",
       "    animation:\n",
       "      spin 1s steps(1) infinite;\n",
       "  }\n",
       "\n",
       "  @keyframes spin {\n",
       "    0% {\n",
       "      border-color: transparent;\n",
       "      border-bottom-color: var(--fill-color);\n",
       "      border-left-color: var(--fill-color);\n",
       "    }\n",
       "    20% {\n",
       "      border-color: transparent;\n",
       "      border-left-color: var(--fill-color);\n",
       "      border-top-color: var(--fill-color);\n",
       "    }\n",
       "    30% {\n",
       "      border-color: transparent;\n",
       "      border-left-color: var(--fill-color);\n",
       "      border-top-color: var(--fill-color);\n",
       "      border-right-color: var(--fill-color);\n",
       "    }\n",
       "    40% {\n",
       "      border-color: transparent;\n",
       "      border-right-color: var(--fill-color);\n",
       "      border-top-color: var(--fill-color);\n",
       "    }\n",
       "    60% {\n",
       "      border-color: transparent;\n",
       "      border-right-color: var(--fill-color);\n",
       "    }\n",
       "    80% {\n",
       "      border-color: transparent;\n",
       "      border-right-color: var(--fill-color);\n",
       "      border-bottom-color: var(--fill-color);\n",
       "    }\n",
       "    90% {\n",
       "      border-color: transparent;\n",
       "      border-bottom-color: var(--fill-color);\n",
       "    }\n",
       "  }\n",
       "</style>\n",
       "\n",
       "  <script>\n",
       "    async function quickchart(key) {\n",
       "      const quickchartButtonEl =\n",
       "        document.querySelector('#' + key + ' button');\n",
       "      quickchartButtonEl.disabled = true;  // To prevent multiple clicks.\n",
       "      quickchartButtonEl.classList.add('colab-df-spinner');\n",
       "      try {\n",
       "        const charts = await google.colab.kernel.invokeFunction(\n",
       "            'suggestCharts', [key], {});\n",
       "      } catch (error) {\n",
       "        console.error('Error during call to suggestCharts:', error);\n",
       "      }\n",
       "      quickchartButtonEl.classList.remove('colab-df-spinner');\n",
       "      quickchartButtonEl.classList.add('colab-df-quickchart-complete');\n",
       "    }\n",
       "    (() => {\n",
       "      let quickchartButtonEl =\n",
       "        document.querySelector('#df-4db66ab9-40f7-4d94-86c1-3b5a79fffa1a button');\n",
       "      quickchartButtonEl.style.display =\n",
       "        google.colab.kernel.accessAllowed ? 'block' : 'none';\n",
       "    })();\n",
       "  </script>\n",
       "</div>\n",
       "    </div>\n",
       "  </div>\n"
      ],
      "text/plain": [
       "                                                                 structures  \\\n",
       "6141db54ee0a3fd43fb47c33  [[1.27612629e-07 1.84192955e+00 3.71975100e+00...   \n",
       "6141d01d3ac25c70a5c6c883  [[1.27612629e-07 1.84192955e+00 3.71975100e+00...   \n",
       "6142025c9cbada84a8676c03  [[1.27612629e-07 1.84192955e+00 3.71975100e+00...   \n",
       "6141cf1e4e27a1844a5f000c  [[1.27612629e-07 1.84192955e+00 3.71975100e+00...   \n",
       "6141f6f3ee0a3fd43fb47dc1  [[1.27612629e-07 1.84192955e+00 3.71975100e+00...   \n",
       "\n",
       "                          targets  atoms_count    elements_set  \n",
       "6141db54ee0a3fd43fb47c33   0.3585          191     [Mo, Se, S]  \n",
       "6141d01d3ac25c70a5c6c883   0.4083          189         [Mo, S]  \n",
       "6142025c9cbada84a8676c03   1.8074          192  [Mo, W, Se, S]  \n",
       "6141cf1e4e27a1844a5f000c   1.1459          191  [Mo, W, Se, S]  \n",
       "6141f6f3ee0a3fd43fb47dc1   0.3582          191     [Mo, Se, S]  "
      ]
     },
     "execution_count": 19,
     "metadata": {},
     "output_type": "execute_result"
    }
   ],
   "source": [
    "data.sample(5)"
   ]
  },
  {
   "cell_type": "code",
   "execution_count": 20,
   "metadata": {
    "colab": {
     "base_uri": "https://localhost:8080/",
     "height": 466
    },
    "executionInfo": {
     "elapsed": 584,
     "status": "ok",
     "timestamp": 1734975405617,
     "user": {
      "displayName": "Данил Терешин",
      "userId": "12554915802224218745"
     },
     "user_tz": -180
    },
    "id": "KgqVxFEC7fyy",
    "outputId": "24ed1b9c-7702-43ba-f845-3a085c4b4ef5"
   },
   "outputs": [
    {
     "data": {
      "text/plain": [
       "<Axes: xlabel='atoms_count', ylabel='count'>"
      ]
     },
     "execution_count": 20,
     "metadata": {},
     "output_type": "execute_result"
    },
    {
     "data": {
      "image/png": "[encoded data removed]",
      "text/plain": [
       "<Figure size 640x480 with 1 Axes>"
      ]
     },
     "metadata": {},
     "output_type": "display_data"
    }
   ],
   "source": [
    "sns.countplot(data=data, x='atoms_count')"
   ]
  },
  {
   "cell_type": "code",
   "execution_count": 21,
   "metadata": {
    "executionInfo": {
     "elapsed": 31,
     "status": "ok",
     "timestamp": 1734975405617,
     "user": {
      "displayName": "Данил Терешин",
      "userId": "12554915802224218745"
     },
     "user_tz": -180
    },
    "id": "Zqv4_rc97vGQ"
   },
   "outputs": [],
   "source": [
    "MAX_ATOMS = 192\n",
    "ATOM_FEATURES = 16"
   ]
  },
  {
   "cell_type": "code",
   "execution_count": 22,
   "metadata": {
    "executionInfo": {
     "elapsed": 30,
     "status": "ok",
     "timestamp": 1734975405617,
     "user": {
      "displayName": "Данил Терешин",
      "userId": "12554915802224218745"
     },
     "user_tz": -180
    },
    "id": "pE_Xanh0-W8s"
   },
   "outputs": [],
   "source": [
    "unique_elements_set = set()\n",
    "\n",
    "for elements in data.elements_set:\n",
    "  unique_elements_set.update(elements)\n",
    "\n",
    "unique_elements_set = list(unique_elements_set)"
   ]
  },
  {
   "cell_type": "code",
   "execution_count": 23,
   "metadata": {
    "colab": {
     "base_uri": "https://localhost:8080/"
    },
    "executionInfo": {
     "elapsed": 30,
     "status": "ok",
     "timestamp": 1734975405618,
     "user": {
      "displayName": "Данил Терешин",
      "userId": "12554915802224218745"
     },
     "user_tz": -180
    },
    "id": "IxkN6Kca_a_u",
    "outputId": "6ebd521d-2e8a-4009-8f74-410af3cb207c"
   },
   "outputs": [
    {
     "data": {
      "text/plain": [
       "[Element S, Element Mo, Element Se, Element W]"
      ]
     },
     "execution_count": 23,
     "metadata": {},
     "output_type": "execute_result"
    }
   ],
   "source": [
    "unique_elements_set"
   ]
  },
  {
   "cell_type": "code",
   "execution_count": 24,
   "metadata": {
    "colab": {
     "base_uri": "https://localhost:8080/"
    },
    "executionInfo": {
     "elapsed": 27,
     "status": "ok",
     "timestamp": 1734975405618,
     "user": {
      "displayName": "Данил Терешин",
      "userId": "12554915802224218745"
     },
     "user_tz": -180
    },
    "id": "y0mUSVqt_drj",
    "outputId": "9d4a29e8-91a3-418b-c717-e7d7b21dab2c"
   },
   "outputs": [
    {
     "data": {
      "text/plain": [
       "{Element S: 16, Element Mo: 42, Element Se: 34, Element W: 74}"
      ]
     },
     "execution_count": 24,
     "metadata": {},
     "output_type": "execute_result"
    }
   ],
   "source": [
    "element_to_index = {elem: Element(elem).Z for elem in unique_elements_set}\n",
    "\n",
    "element_to_index"
   ]
  },
  {
   "cell_type": "code",
   "execution_count": 25,
   "metadata": {
    "executionInfo": {
     "elapsed": 24,
     "status": "ok",
     "timestamp": 1734975405618,
     "user": {
      "displayName": "Данил Терешин",
      "userId": "12554915802224218745"
     },
     "user_tz": -180
    },
    "id": "HEKLuuByCrqI"
   },
   "outputs": [],
   "source": [
    "train_data, test_data = train_test_split(data, test_size=0.25, random_state=seed)"
   ]
  },
  {
   "cell_type": "code",
   "execution_count": 26,
   "metadata": {
    "colab": {
     "base_uri": "https://localhost:8080/"
    },
    "executionInfo": {
     "elapsed": 23,
     "status": "ok",
     "timestamp": 1734975405618,
     "user": {
      "displayName": "Данил Терешин",
      "userId": "12554915802224218745"
     },
     "user_tz": -180
    },
    "id": "EyvplcxyCzE8",
    "outputId": "b42eacd1-06e3-4d87-dda3-2e83b1f42329"
   },
   "outputs": [
    {
     "data": {
      "text/plain": [
       "(742, 4)"
      ]
     },
     "execution_count": 26,
     "metadata": {},
     "output_type": "execute_result"
    }
   ],
   "source": [
    "test_data.shape"
   ]
  },
  {
   "cell_type": "code",
   "execution_count": 27,
   "metadata": {
    "executionInfo": {
     "elapsed": 20,
     "status": "ok",
     "timestamp": 1734975405618,
     "user": {
      "displayName": "Данил Терешин",
      "userId": "12554915802224218745"
     },
     "user_tz": -180
    },
    "id": "APyllnduBN1A"
   },
   "outputs": [],
   "source": [
    "cutoff = 5.0\n",
    "graph_converter = CrystalGraph(cutoff=cutoff)"
   ]
  },
  {
   "cell_type": "code",
   "execution_count": 28,
   "metadata": {
    "executionInfo": {
     "elapsed": 20,
     "status": "ok",
     "timestamp": 1734975405618,
     "user": {
      "displayName": "Данил Терешин",
      "userId": "12554915802224218745"
     },
     "user_tz": -180
    },
    "id": "2ISbdN7ACqBz"
   },
   "outputs": [],
   "source": [
    "graph = graph_converter.convert(struct['6141cf0f51c1cbd9654b8870'])"
   ]
  },
  {
   "cell_type": "code",
   "execution_count": 29,
   "metadata": {
    "colab": {
     "base_uri": "https://localhost:8080/"
    },
    "executionInfo": {
     "elapsed": 20,
     "status": "ok",
     "timestamp": 1734975405618,
     "user": {
      "displayName": "Данил Терешин",
      "userId": "12554915802224218745"
     },
     "user_tz": -180
    },
    "id": "xFtXS-2kDFK5",
    "outputId": "13096235-b8fd-41a4-cb80-3c3361e08815"
   },
   "outputs": [
    {
     "data": {
      "text/plain": [
       "{'atom': [42,\n",
       "  42,\n",
       "  42,\n",
       "  42,\n",
       "  42,\n",
       "  42,\n",
       "  42,\n",
       "  42,\n",
       "  42,\n",
       "  42,\n",
       "  42,\n",
       "  42,\n",
       "  42,\n",
       "  42,\n",
       "  42,\n",
       "  42,\n",
       "  42,\n",
       "  42,\n",
       "  42,\n",
       "  42,\n",
       "  42,\n",
       "  42,\n",
       "  42,\n",
       "  42,\n",
       "  42,\n",
       "  42,\n",
       "  42,\n",
       "  42,\n",
       "  42,\n",
       "  42,\n",
       "  42,\n",
       "  42,\n",
       "  42,\n",
       "  42,\n",
       "  42,\n",
       "  42,\n",
       "  42,\n",
       "  42,\n",
       "  42,\n",
       "  42,\n",
       "  42,\n",
       "  42,\n",
       "  42,\n",
       "  42,\n",
       "  42,\n",
       "  42,\n",
       "  42,\n",
       "  42,\n",
       "  42,\n",
       "  42,\n",
       "  42,\n",
       "  42,\n",
       "  42,\n",
       "  42,\n",
       "  42,\n",
       "  42,\n",
       "  42,\n",
       "  42,\n",
       "  42,\n",
       "  42,\n",
       "  42,\n",
       "  42,\n",
       "  42,\n",
       "  42,\n",
       "  16,\n",
       "  16,\n",
       "  16,\n",
       "  16,\n",
       "  16,\n",
       "  16,\n",
       "  16,\n",
       "  16,\n",
       "  16,\n",
       "  16,\n",
       "  16,\n",
       "  16,\n",
       "  16,\n",
       "  16,\n",
       "  16,\n",
       "  16,\n",
       "  16,\n",
       "  16,\n",
       "  16,\n",
       "  16,\n",
       "  16,\n",
       "  16,\n",
       "  16,\n",
       "  16,\n",
       "  16,\n",
       "  16,\n",
       "  16,\n",
       "  16,\n",
       "  16,\n",
       "  16,\n",
       "  16,\n",
       "  16,\n",
       "  16,\n",
       "  16,\n",
       "  16,\n",
       "  16,\n",
       "  16,\n",
       "  16,\n",
       "  16,\n",
       "  16,\n",
       "  16,\n",
       "  16,\n",
       "  16,\n",
       "  16,\n",
       "  16,\n",
       "  16,\n",
       "  16,\n",
       "  16,\n",
       "  16,\n",
       "  16,\n",
       "  16,\n",
       "  16,\n",
       "  16,\n",
       "  16,\n",
       "  16,\n",
       "  16,\n",
       "  16,\n",
       "  16,\n",
       "  16,\n",
       "  16,\n",
       "  16,\n",
       "  16,\n",
       "  16,\n",
       "  16,\n",
       "  16,\n",
       "  16,\n",
       "  16,\n",
       "  16,\n",
       "  16,\n",
       "  16,\n",
       "  16,\n",
       "  16,\n",
       "  16,\n",
       "  16,\n",
       "  16,\n",
       "  16,\n",
       "  16,\n",
       "  16,\n",
       "  16,\n",
       "  16,\n",
       "  16,\n",
       "  16,\n",
       "  16,\n",
       "  16,\n",
       "  16,\n",
       "  16,\n",
       "  16,\n",
       "  16,\n",
       "  16,\n",
       "  16,\n",
       "  16,\n",
       "  16,\n",
       "  16,\n",
       "  16,\n",
       "  16,\n",
       "  16,\n",
       "  16,\n",
       "  16,\n",
       "  16,\n",
       "  16,\n",
       "  16,\n",
       "  16,\n",
       "  16,\n",
       "  16,\n",
       "  16,\n",
       "  16,\n",
       "  16,\n",
       "  16,\n",
       "  16,\n",
       "  16,\n",
       "  16,\n",
       "  16,\n",
       "  16,\n",
       "  16,\n",
       "  16,\n",
       "  16,\n",
       "  16,\n",
       "  16,\n",
       "  16,\n",
       "  16,\n",
       "  16,\n",
       "  16,\n",
       "  16,\n",
       "  16,\n",
       "  16,\n",
       "  16],\n",
       " 'bond': array([3.1903157, 3.1903157, 4.00246  , ..., 3.1903157, 4.4691796,\n",
       "        2.4169338], dtype=float32),\n",
       " 'state': array([[0., 0.]], dtype=float32),\n",
       " 'index1': array([  0,   0,   0, ..., 189, 189, 189], dtype=int32),\n",
       " 'index2': array([ 63,   1, 183, ..., 127,  64,   7], dtype=int32)}"
      ]
     },
     "execution_count": 29,
     "metadata": {},
     "output_type": "execute_result"
    }
   ],
   "source": [
    "graph"
   ]
  },
  {
   "cell_type": "code",
   "execution_count": 30,
   "metadata": {
    "colab": {
     "base_uri": "https://localhost:8080/"
    },
    "executionInfo": {
     "elapsed": 16,
     "status": "ok",
     "timestamp": 1734975405618,
     "user": {
      "displayName": "Данил Терешин",
      "userId": "12554915802224218745"
     },
     "user_tz": -180
    },
    "id": "5AGDItRk9YDY",
    "outputId": "f86178ee-b180-44ce-e76c-661bf27e59cf"
   },
   "outputs": [
    {
     "data": {
      "text/plain": [
       "4.4691796"
      ]
     },
     "execution_count": 30,
     "metadata": {},
     "output_type": "execute_result"
    }
   ],
   "source": [
    "np.max(graph['bond'])"
   ]
  },
  {
   "cell_type": "code",
   "execution_count": 31,
   "metadata": {
    "colab": {
     "base_uri": "https://localhost:8080/"
    },
    "executionInfo": {
     "elapsed": 14,
     "status": "ok",
     "timestamp": 1734975405619,
     "user": {
      "displayName": "Данил Терешин",
      "userId": "12554915802224218745"
     },
     "user_tz": -180
    },
    "id": "lHsagPQwT119",
    "outputId": "3e31a56b-b538-443e-b594-1c1d50b4304a"
   },
   "outputs": [
    {
     "name": "stdout",
     "output_type": "stream",
     "text": [
      "(3508,)\n",
      "(3508,)\n",
      "(3508,)\n"
     ]
    }
   ],
   "source": [
    "print(graph['bond'].shape)\n",
    "print(graph['index1'].shape)\n",
    "print(graph['index2'].shape)"
   ]
  },
  {
   "cell_type": "code",
   "execution_count": 32,
   "metadata": {
    "executionInfo": {
     "elapsed": 11,
     "status": "ok",
     "timestamp": 1734975405619,
     "user": {
      "displayName": "Данил Терешин",
      "userId": "12554915802224218745"
     },
     "user_tz": -180
    },
    "id": "tI2BeBoDPHJD"
   },
   "outputs": [],
   "source": [
    "# for i in range(len(graph['bond'])):\n",
    "#   if graph['index2'][i] > graph['index1'][i]:\n",
    "#     print('more')\n",
    "#   else:\n",
    "#     print('less')\n",
    "\n",
    "# count = 0\n",
    "# for i in range(len(graph['bond'])):\n",
    "#   for j in range(len(graph['bond'])):\n",
    "#     if i != j and graph['index1'][i] == graph['index2'][j] and graph['index1'][j] == graph['index2'][i]:\n",
    "#       count+=1\n",
    "# print(count)"
   ]
  },
  {
   "cell_type": "markdown",
   "metadata": {
    "id": "xnqcPKxkD3NY"
   },
   "source": [
    "# Build model"
   ]
  },
  {
   "cell_type": "code",
   "execution_count": 33,
   "metadata": {
    "executionInfo": {
     "elapsed": 11,
     "status": "ok",
     "timestamp": 1734975405619,
     "user": {
      "displayName": "Данил Терешин",
      "userId": "12554915802224218745"
     },
     "user_tz": -180
    },
    "id": "LubOlH8ZDY-U"
   },
   "outputs": [],
   "source": [
    "class InputEmbedding:\n",
    "  def __init__(self, embed_size: int, elements_to_chemical_numbers: dict,\n",
    "               max_atoms: int, random_seed: int = 21) -> None:\n",
    "     self.rng = np.random.default_rng(random_seed)\n",
    "     self.max_atoms = max_atoms\n",
    "     self.embeddings = self.rng.standard_normal((max(elements_to_chemical_numbers.values()) + 1,\n",
    "                                                 embed_size))\n",
    "\n",
    "  def build_adjacency_matrix(self, graph) -> np.ndarray:\n",
    "      self.num_atoms = len(graph['atom'])\n",
    "      adjacency_matrix = np.zeros((self.num_atoms, self.num_atoms), dtype=int)\n",
    "\n",
    "      for i, j in zip(graph['index1'], graph['index2']):\n",
    "            adjacency_matrix[i, j] = 1\n",
    "            adjacency_matrix[j, i] = 1\n",
    "\n",
    "      return adjacency_matrix\n",
    "\n",
    "  def add_padding(self, adjacency_matrix, atom_embeddings):\n",
    "      self.padding_size = self.max_atoms - self.num_atoms\n",
    "\n",
    "      if self.padding_size == 0:\n",
    "          return adjacency_matrix, atom_embeddings\n",
    "\n",
    "      padded_adjacency_matrix = np.pad(adjacency_matrix,\n",
    "                                       ((0, self.padding_size),\n",
    "                                        (0, self.padding_size)),\n",
    "                                      mode='constant')\n",
    "\n",
    "      padding_embeddings = np.zeros((self.padding_size, atom_embeddings.shape[1]))\n",
    "      padded_atom_embeddings = np.vstack((atom_embeddings, padding_embeddings))\n",
    "\n",
    "      return padded_adjacency_matrix, padded_atom_embeddings\n",
    "\n",
    "\n",
    "  def normalize_adj(self, A : np.ndarray) -> np.ndarray:\n",
    "      I = np.eye(A.shape[0])\n",
    "      A_hat = A + I\n",
    "      D_hat = np.diag(np.sum(A_hat, axis=1))\n",
    "      D_hat_inv_sqrt = np.sqrt(np.linalg.inv(D_hat))\n",
    "      return D_hat_inv_sqrt @ A_hat @ D_hat_inv_sqrt\n",
    "\n",
    "  def feedforward(self, s : Structure):\n",
    "      self.graph = graph_converter.convert(s)\n",
    "      self.indexes = self.graph['atom']\n",
    "\n",
    "      embeddings = self.embeddings[self.indexes]\n",
    "      A = self.build_adjacency_matrix(self.graph)\n",
    "\n",
    "      A, embeddings = self.add_padding(A, embeddings)\n",
    "      A_norm = self.normalize_adj(A)\n",
    "\n",
    "      return A_norm, embeddings\n",
    "\n",
    "  def backprop(self, delta: np.ndarray, lr: float) -> None:\n",
    "      if self.padding_size > 0:\n",
    "          delta = delta[:-self.padding_size]\n",
    "\n",
    "      d_embeddings = np.zeros_like(self.embeddings)\n",
    "      np.add.at(d_embeddings, self.indexes, delta)\n",
    "\n",
    "      self.embeddings -= lr * d_embeddings"
   ]
  },
  {
   "cell_type": "code",
   "execution_count": 34,
   "metadata": {
    "executionInfo": {
     "elapsed": 10,
     "status": "ok",
     "timestamp": 1734975405619,
     "user": {
      "displayName": "Данил Терешин",
      "userId": "12554915802224218745"
     },
     "user_tz": -180
    },
    "id": "DOTdZFIZfNY5"
   },
   "outputs": [],
   "source": [
    "class GraphConvLayer:\n",
    "    def __init__(self, input_dim : int , output_dim : int, random_seed : int = 21) -> None:\n",
    "       self.rng = np.random.default_rng(random_seed)\n",
    "\n",
    "       self.W = self.rng.standard_normal((input_dim, output_dim))\n",
    "\n",
    "    def feedforward(self, A_norm : np.ndarray, X : np.ndarray):\n",
    "        self.A_norm = A_norm\n",
    "        self.X = X\n",
    "        self.Z = self.A_norm @ X @ self.W\n",
    "        # ReLU activation\n",
    "        self.H = np.maximum(0, self.Z)\n",
    "        return self.A_norm, self.H\n",
    "\n",
    "    def backprop(self, dH : np.ndarray, lr: float):\n",
    "        # d_relu\n",
    "        dZ = dH * (self.Z > 0)\n",
    "\n",
    "        dW = (self.A_norm @ self.X).T @ dZ\n",
    "        dX = self.A_norm.T @ (dZ @ self.W.T)\n",
    "\n",
    "        self.W -= lr * dW\n",
    "\n",
    "        return dX"
   ]
  },
  {
   "cell_type": "code",
   "execution_count": 35,
   "metadata": {
    "executionInfo": {
     "elapsed": 10,
     "status": "ok",
     "timestamp": 1734975405619,
     "user": {
      "displayName": "Данил Терешин",
      "userId": "12554915802224218745"
     },
     "user_tz": -180
    },
    "id": "kkXergH7D-FX"
   },
   "outputs": [],
   "source": [
    "class Linear():\n",
    "    def __init__(self, in_neurons: int, out_neurons: int, random_seed: int = 42) -> None:\n",
    "        # random generator\n",
    "        self.rng = np.random.default_rng(random_seed)\n",
    "\n",
    "        # parameter k for initialize weights\n",
    "        self.k = np.sqrt(6. / (in_neurons + out_neurons))\n",
    "        # initialize layer weights (Xavier)\n",
    "        self.W = self.rng.uniform(-self.k, self.k + 1e-5, size=(out_neurons, in_neurons))\n",
    "        # initialize bias\n",
    "        self.b = self.rng.random((out_neurons, 1)) * 2 - 1\n",
    "\n",
    "        # weight and bias changes\n",
    "        self.dW = np.zeros_like(self.W)\n",
    "        self.db = np.zeros_like(self.b)\n",
    "\n",
    "        # result from previous layer (current input)\n",
    "        self.a = None\n",
    "\n",
    "    def feedforward(self, x: np.ndarray) -> np.ndarray:\n",
    "        self.a = x\n",
    "        return self.W @ x + self.b\n",
    "\n",
    "    def backprop(self, delta: np.ndarray, lr: float, update_params: bool = True) -> np.ndarray:\n",
    "        self.dW = delta @ self.a.T\n",
    "        self.db = np.sum(delta, axis=1, keepdims=True)\n",
    "        new_delta = self.W.T @ delta\n",
    "\n",
    "        # update params\n",
    "        # assert self.W.shape == self.dW.shape\n",
    "        if update_params:\n",
    "            self.W -= lr * self.dW\n",
    "            self.b -= lr * self.db\n",
    "\n",
    "        return new_delta"
   ]
  },
  {
   "cell_type": "code",
   "execution_count": 36,
   "metadata": {
    "executionInfo": {
     "elapsed": 235,
     "status": "ok",
     "timestamp": 1734975405845,
     "user": {
      "displayName": "Данил Терешин",
      "userId": "12554915802224218745"
     },
     "user_tz": -180
    },
    "id": "amaVFCw1suQ4"
   },
   "outputs": [],
   "source": [
    "class GraphNetwork:\n",
    "    def __init__(self, atoms_count : int, embed_size: int, seed:int = 21) -> None:\n",
    "        self.atoms_count = atoms_count\n",
    "        self.embed_size = embed_size\n",
    "\n",
    "        self.InputLayer = InputEmbedding(embed_size=self.embed_size, elements_to_chemical_numbers = element_to_index,\n",
    "               max_atoms=self.atoms_count, random_seed=seed)\n",
    "\n",
    "        self.Layer1 = GraphConvLayer(input_dim=self.embed_size, output_dim=self.embed_size * 2, random_seed=seed)\n",
    "        self.Layer2 = GraphConvLayer(input_dim=self.embed_size * 2, output_dim=self.embed_size, random_seed=seed)\n",
    "\n",
    "        self.Head = Linear(in_neurons=self.embed_size, out_neurons=1, random_seed=seed)\n",
    "\n",
    "    def feedforward(self, s : Structure):\n",
    "        A_norm, embeddings = self.InputLayer.feedforward(s)\n",
    "        A_norm, embeddings = self.Layer1.feedforward(A_norm=A_norm, X=embeddings)\n",
    "        A_norm, embeddings = self.Layer2.feedforward(A_norm=A_norm, X=embeddings)\n",
    "\n",
    "        # Mean pooling\n",
    "        x = np.mean(embeddings, axis=0).reshape(-1, 1)\n",
    "\n",
    "        return self.Head.feedforward(x)\n",
    "\n",
    "    def backprop(self, d_output: np.ndarray, lr: float) -> None:\n",
    "        d_x = self.Head.backprop(d_output, lr)\n",
    "\n",
    "        d_embeddings = np.repeat(d_x.reshape(-1)[np.newaxis, :], self.atoms_count, axis=0) / self.atoms_count\n",
    "\n",
    "        d_embeddings = self.Layer2.backprop(dH = d_embeddings, lr=lr)\n",
    "        d_embeddings = self.Layer1.backprop(dH = d_embeddings, lr=lr)\n",
    "        self.InputLayer.backprop(delta=d_embeddings, lr=lr)"
   ]
  },
  {
   "cell_type": "code",
   "execution_count": 37,
   "metadata": {
    "executionInfo": {
     "elapsed": 8,
     "status": "ok",
     "timestamp": 1734975405845,
     "user": {
      "displayName": "Данил Терешин",
      "userId": "12554915802224218745"
     },
     "user_tz": -180
    },
    "id": "RTX1J3f3H70y"
   },
   "outputs": [],
   "source": [
    "model = GraphNetwork(atoms_count=MAX_ATOMS, embed_size=ATOM_FEATURES, seed=seed)"
   ]
  },
  {
   "cell_type": "markdown",
   "metadata": {
    "id": "1gd3BsLtLQnu"
   },
   "source": [
    "# Train"
   ]
  },
  {
   "cell_type": "code",
   "execution_count": 38,
   "metadata": {
    "executionInfo": {
     "elapsed": 8,
     "status": "ok",
     "timestamp": 1734975405845,
     "user": {
      "displayName": "Данил Терешин",
      "userId": "12554915802224218745"
     },
     "user_tz": -180
    },
    "id": "L_Ta0n0ZO0Dh"
   },
   "outputs": [],
   "source": [
    "def energy_within_threshold(prediction, target):\n",
    "    # compute absolute error on energy per system.\n",
    "    # then count the no. of systems where max energy error is < 0.02.\n",
    "    e_thresh = 0.02\n",
    "    error_energy = np.abs(target - prediction)\n",
    "\n",
    "    success = np.count_nonzero(error_energy < e_thresh)\n",
    "    total = target.size\n",
    "    return success / total"
   ]
  },
  {
   "cell_type": "code",
   "execution_count": 39,
   "metadata": {
    "executionInfo": {
     "elapsed": 7,
     "status": "ok",
     "timestamp": 1734975405845,
     "user": {
      "displayName": "Данил Терешин",
      "userId": "12554915802224218745"
     },
     "user_tz": -180
    },
    "id": "xc8Olw8mOuQJ"
   },
   "outputs": [],
   "source": [
    "class MAE:\n",
    "    def fn(self, pred:np.ndarray, true: np.ndarray) -> np.ndarray:\n",
    "        return np.mean(np.abs(pred - true))\n",
    "\n",
    "    def dfn(self, pred: np.ndarray, true: np.ndarray) -> np.ndarray:\n",
    "        return np.sign(pred - true) / pred.size"
   ]
  },
  {
   "cell_type": "code",
   "execution_count": 40,
   "metadata": {
    "executionInfo": {
     "elapsed": 7,
     "status": "ok",
     "timestamp": 1734975405845,
     "user": {
      "displayName": "Данил Терешин",
      "userId": "12554915802224218745"
     },
     "user_tz": -180
    },
    "id": "k3ebyIRiNwJ0"
   },
   "outputs": [],
   "source": [
    "mae = MAE()"
   ]
  },
  {
   "cell_type": "code",
   "execution_count": 41,
   "metadata": {
    "executionInfo": {
     "elapsed": 7,
     "status": "ok",
     "timestamp": 1734975405846,
     "user": {
      "displayName": "Данил Терешин",
      "userId": "12554915802224218745"
     },
     "user_tz": -180
    },
    "id": "RiBVPNuCPiOv"
   },
   "outputs": [],
   "source": [
    "epochs = 22\n",
    "lr = 3e-4"
   ]
  },
  {
   "cell_type": "code",
   "execution_count": 42,
   "metadata": {
    "executionInfo": {
     "elapsed": 7,
     "status": "ok",
     "timestamp": 1734975405846,
     "user": {
      "displayName": "Данил Терешин",
      "userId": "12554915802224218745"
     },
     "user_tz": -180
    },
    "id": "wZkTIB5oPnww"
   },
   "outputs": [],
   "source": [
    "train_loss_history , test_loss_history = [], []\n",
    "ewt_train_history, ewt_test_history = [], []"
   ]
  },
  {
   "cell_type": "code",
   "execution_count": 43,
   "metadata": {
    "executionInfo": {
     "elapsed": 6,
     "status": "ok",
     "timestamp": 1734975405846,
     "user": {
      "displayName": "Данил Терешин",
      "userId": "12554915802224218745"
     },
     "user_tz": -180
    },
    "id": "xsgWb8w5RVLL"
   },
   "outputs": [],
   "source": [
    "train_dataset_size = train_data.shape[0]\n",
    "test_dataset_size = test_data.shape[0]\n",
    "\n",
    "order = np.arange(train_dataset_size)"
   ]
  },
  {
   "cell_type": "code",
   "execution_count": 44,
   "metadata": {
    "executionInfo": {
     "elapsed": 6,
     "status": "ok",
     "timestamp": 1734975405846,
     "user": {
      "displayName": "Данил Терешин",
      "userId": "12554915802224218745"
     },
     "user_tz": -180
    },
    "id": "JeaJpRCGWeTU"
   },
   "outputs": [],
   "source": [
    "def train(model : GraphNetwork, epochs: int = 1, lr: float = 1e-3) -> None:\n",
    "\n",
    "    for epoch in range(epochs):\n",
    "        train_loss_value, test_loss_value = 0, 0\n",
    "        preds, trues = [], []\n",
    "\n",
    "        # Train phase\n",
    "        rng.shuffle(order)\n",
    "        for i in tqdm(range(train_dataset_size)):\n",
    "            pred = model.feedforward(train_data.iloc[i].structures)\n",
    "            true = np.array(train_data.iloc[i].targets).reshape(-1,1)\n",
    "\n",
    "            preds.append(pred.item())\n",
    "            trues.append(true.item())\n",
    "            train_loss_value += mae.fn(pred.item(), true.item())\n",
    "\n",
    "            d_output = mae.dfn(pred, true)\n",
    "            model.backprop(d_output, lr)\n",
    "\n",
    "        train_ewt = energy_within_threshold(prediction=np.array(preds), target=np.array(trues))\n",
    "        ewt_train_history.append(train_ewt)\n",
    "\n",
    "        preds, trues = [], []\n",
    "\n",
    "        # Test phase\n",
    "        for i in tqdm(range(test_dataset_size)):\n",
    "            pred = model.feedforward(test_data.iloc[i].structures)\n",
    "            true = np.array(test_data.iloc[i].targets).reshape(-1,1)\n",
    "\n",
    "            preds.append(pred.item())\n",
    "            trues.append(true.item())\n",
    "            test_loss_value += mae.fn(pred.item(), true.item())\n",
    "\n",
    "        test_ewt = energy_within_threshold(prediction=np.array(preds), target=np.array(trues))\n",
    "        ewt_test_history.append(test_ewt)\n",
    "\n",
    "        train_loss_value /= train_dataset_size\n",
    "        test_loss_value /= test_dataset_size\n",
    "        train_loss_history.append(train_loss_value)\n",
    "        test_loss_history.append(test_loss_value)\n",
    "\n",
    "        print(f'''\n",
    "          Epoch: {epoch + 1}/{epochs},\n",
    "          Train loss : {train_loss_value},\n",
    "          Test loss : {test_loss_value},\n",
    "          Train EWT : {train_ewt},\n",
    "          Test EWT: {test_ewt}\n",
    "        ''')\n"
   ]
  },
  {
   "cell_type": "code",
   "execution_count": 45,
   "metadata": {
    "colab": {
     "base_uri": "https://localhost:8080/"
    },
    "executionInfo": {
     "elapsed": 1177554,
     "status": "ok",
     "timestamp": 1734976583395,
     "user": {
      "displayName": "Данил Терешин",
      "userId": "12554915802224218745"
     },
     "user_tz": -180
    },
    "id": "GY2sIhh8P8K4",
    "outputId": "b20b4ff2-759c-46ae-c3e5-3ee25aee2c0d"
   },
   "outputs": [
    {
     "name": "stderr",
     "output_type": "stream",
     "text": [
      "100%|██████████| 2224/2224 [00:40<00:00, 54.63it/s]\n",
      "100%|██████████| 742/742 [00:13<00:00, 54.25it/s]\n"
     ]
    },
    {
     "name": "stdout",
     "output_type": "stream",
     "text": [
      "\n",
      "          Epoch: 1/22,\n",
      "          Train loss : 0.8060278626450803,\n",
      "          Test loss : 0.4099500359557022,\n",
      "          Train EWT : 0.015287769784172662,\n",
      "          Test EWT: 0.0\n",
      "        \n"
     ]
    },
    {
     "name": "stderr",
     "output_type": "stream",
     "text": [
      "100%|██████████| 2224/2224 [00:41<00:00, 54.09it/s]\n",
      "100%|██████████| 742/742 [00:12<00:00, 61.31it/s]\n"
     ]
    },
    {
     "name": "stdout",
     "output_type": "stream",
     "text": [
      "\n",
      "          Epoch: 2/22,\n",
      "          Train loss : 0.48552420034025234,\n",
      "          Test loss : 0.4021488065467842,\n",
      "          Train EWT : 0.02473021582733813,\n",
      "          Test EWT: 0.0026954177897574125\n",
      "        \n"
     ]
    },
    {
     "name": "stderr",
     "output_type": "stream",
     "text": [
      "100%|██████████| 2224/2224 [00:43<00:00, 51.47it/s]\n",
      "100%|██████████| 742/742 [00:09<00:00, 77.82it/s]\n"
     ]
    },
    {
     "name": "stdout",
     "output_type": "stream",
     "text": [
      "\n",
      "          Epoch: 3/22,\n",
      "          Train loss : 0.4603472043862641,\n",
      "          Test loss : 0.41278088909174443,\n",
      "          Train EWT : 0.02877697841726619,\n",
      "          Test EWT: 0.09838274932614555\n",
      "        \n"
     ]
    },
    {
     "name": "stderr",
     "output_type": "stream",
     "text": [
      "100%|██████████| 2224/2224 [00:44<00:00, 50.27it/s]\n",
      "100%|██████████| 742/742 [00:12<00:00, 57.88it/s]\n"
     ]
    },
    {
     "name": "stdout",
     "output_type": "stream",
     "text": [
      "\n",
      "          Epoch: 4/22,\n",
      "          Train loss : 0.44360252261340366,\n",
      "          Test loss : 0.3692445629441862,\n",
      "          Train EWT : 0.023830935251798562,\n",
      "          Test EWT: 0.0\n",
      "        \n"
     ]
    },
    {
     "name": "stderr",
     "output_type": "stream",
     "text": [
      "100%|██████████| 2224/2224 [00:39<00:00, 56.90it/s]\n",
      "100%|██████████| 742/742 [00:12<00:00, 57.44it/s]\n"
     ]
    },
    {
     "name": "stdout",
     "output_type": "stream",
     "text": [
      "\n",
      "          Epoch: 5/22,\n",
      "          Train loss : 0.42559958427154143,\n",
      "          Test loss : 0.36301798409163194,\n",
      "          Train EWT : 0.03462230215827338,\n",
      "          Test EWT: 0.004043126684636119\n",
      "        \n"
     ]
    },
    {
     "name": "stderr",
     "output_type": "stream",
     "text": [
      "100%|██████████| 2224/2224 [00:39<00:00, 56.49it/s]\n",
      "100%|██████████| 742/742 [00:13<00:00, 56.44it/s]\n"
     ]
    },
    {
     "name": "stdout",
     "output_type": "stream",
     "text": [
      "\n",
      "          Epoch: 6/22,\n",
      "          Train loss : 0.4051622694069849,\n",
      "          Test loss : 0.37001252393102607,\n",
      "          Train EWT : 0.026079136690647483,\n",
      "          Test EWT: 0.11320754716981132\n",
      "        \n"
     ]
    },
    {
     "name": "stderr",
     "output_type": "stream",
     "text": [
      "100%|██████████| 2224/2224 [00:39<00:00, 55.98it/s]\n",
      "100%|██████████| 742/742 [00:12<00:00, 57.76it/s]\n"
     ]
    },
    {
     "name": "stdout",
     "output_type": "stream",
     "text": [
      "\n",
      "          Epoch: 7/22,\n",
      "          Train loss : 0.3896154781093733,\n",
      "          Test loss : 0.32691053708907547,\n",
      "          Train EWT : 0.03462230215827338,\n",
      "          Test EWT: 0.04582210242587601\n",
      "        \n"
     ]
    },
    {
     "name": "stderr",
     "output_type": "stream",
     "text": [
      "100%|██████████| 2224/2224 [00:41<00:00, 53.53it/s]\n",
      "100%|██████████| 742/742 [00:10<00:00, 72.20it/s]\n"
     ]
    },
    {
     "name": "stdout",
     "output_type": "stream",
     "text": [
      "\n",
      "          Epoch: 8/22,\n",
      "          Train loss : 0.37359292943580413,\n",
      "          Test loss : 0.3159796925800619,\n",
      "          Train EWT : 0.03597122302158273,\n",
      "          Test EWT: 0.0013477088948787063\n",
      "        \n"
     ]
    },
    {
     "name": "stderr",
     "output_type": "stream",
     "text": [
      "100%|██████████| 2224/2224 [00:43<00:00, 51.57it/s]\n",
      "100%|██████████| 742/742 [00:09<00:00, 77.43it/s]\n"
     ]
    },
    {
     "name": "stdout",
     "output_type": "stream",
     "text": [
      "\n",
      "          Epoch: 9/22,\n",
      "          Train loss : 0.36041133777458256,\n",
      "          Test loss : 0.30316885102362745,\n",
      "          Train EWT : 0.04091726618705036,\n",
      "          Test EWT: 0.0013477088948787063\n",
      "        \n"
     ]
    },
    {
     "name": "stderr",
     "output_type": "stream",
     "text": [
      "100%|██████████| 2224/2224 [00:42<00:00, 51.86it/s]\n",
      "100%|██████████| 742/742 [00:13<00:00, 55.83it/s]\n"
     ]
    },
    {
     "name": "stdout",
     "output_type": "stream",
     "text": [
      "\n",
      "          Epoch: 10/22,\n",
      "          Train loss : 0.34828281263811806,\n",
      "          Test loss : 0.29281742384049436,\n",
      "          Train EWT : 0.03911870503597122,\n",
      "          Test EWT: 0.06064690026954178\n",
      "        \n"
     ]
    },
    {
     "name": "stderr",
     "output_type": "stream",
     "text": [
      "100%|██████████| 2224/2224 [00:42<00:00, 52.36it/s]\n",
      "100%|██████████| 742/742 [00:13<00:00, 55.44it/s]\n"
     ]
    },
    {
     "name": "stdout",
     "output_type": "stream",
     "text": [
      "\n",
      "          Epoch: 11/22,\n",
      "          Train loss : 0.34067140661989265,\n",
      "          Test loss : 0.3413303317571313,\n",
      "          Train EWT : 0.03282374100719424,\n",
      "          Test EWT: 0.06873315363881402\n",
      "        \n"
     ]
    },
    {
     "name": "stderr",
     "output_type": "stream",
     "text": [
      "100%|██████████| 2224/2224 [00:39<00:00, 56.97it/s]\n",
      "100%|██████████| 742/742 [00:13<00:00, 55.73it/s]\n"
     ]
    },
    {
     "name": "stdout",
     "output_type": "stream",
     "text": [
      "\n",
      "          Epoch: 12/22,\n",
      "          Train loss : 0.3296939253744795,\n",
      "          Test loss : 0.2688736485037835,\n",
      "          Train EWT : 0.045413669064748204,\n",
      "          Test EWT: 0.0026954177897574125\n",
      "        \n"
     ]
    },
    {
     "name": "stderr",
     "output_type": "stream",
     "text": [
      "100%|██████████| 2224/2224 [00:41<00:00, 53.19it/s]\n",
      "100%|██████████| 742/742 [00:10<00:00, 68.51it/s]\n"
     ]
    },
    {
     "name": "stdout",
     "output_type": "stream",
     "text": [
      "\n",
      "          Epoch: 13/22,\n",
      "          Train loss : 0.318294265256322,\n",
      "          Test loss : 0.2932284502939093,\n",
      "          Train EWT : 0.044064748201438846,\n",
      "          Test EWT: 0.10107816711590296\n",
      "        \n"
     ]
    },
    {
     "name": "stderr",
     "output_type": "stream",
     "text": [
      "100%|██████████| 2224/2224 [00:42<00:00, 52.58it/s]\n",
      "100%|██████████| 742/742 [00:09<00:00, 76.42it/s]\n"
     ]
    },
    {
     "name": "stdout",
     "output_type": "stream",
     "text": [
      "\n",
      "          Epoch: 14/22,\n",
      "          Train loss : 0.3096599884539771,\n",
      "          Test loss : 0.24494150092003153,\n",
      "          Train EWT : 0.0539568345323741,\n",
      "          Test EWT: 0.0013477088948787063\n",
      "        \n"
     ]
    },
    {
     "name": "stderr",
     "output_type": "stream",
     "text": [
      "100%|██████████| 2224/2224 [00:43<00:00, 51.34it/s]\n",
      "100%|██████████| 742/742 [00:10<00:00, 68.88it/s]\n"
     ]
    },
    {
     "name": "stdout",
     "output_type": "stream",
     "text": [
      "\n",
      "          Epoch: 15/22,\n",
      "          Train loss : 0.30184954894362376,\n",
      "          Test loss : 0.392416553684543,\n",
      "          Train EWT : 0.03102517985611511,\n",
      "          Test EWT: 0.014824797843665768\n",
      "        \n"
     ]
    },
    {
     "name": "stderr",
     "output_type": "stream",
     "text": [
      "100%|██████████| 2224/2224 [00:42<00:00, 52.74it/s]\n",
      "100%|██████████| 742/742 [00:13<00:00, 56.08it/s]\n"
     ]
    },
    {
     "name": "stdout",
     "output_type": "stream",
     "text": [
      "\n",
      "          Epoch: 16/22,\n",
      "          Train loss : 0.29451586618847747,\n",
      "          Test loss : 0.2470937915498986,\n",
      "          Train EWT : 0.026528776978417268,\n",
      "          Test EWT: 0.08490566037735849\n",
      "        \n"
     ]
    },
    {
     "name": "stderr",
     "output_type": "stream",
     "text": [
      "100%|██████████| 2224/2224 [00:39<00:00, 56.84it/s]\n",
      "100%|██████████| 742/742 [00:13<00:00, 53.47it/s]\n"
     ]
    },
    {
     "name": "stdout",
     "output_type": "stream",
     "text": [
      "\n",
      "          Epoch: 17/22,\n",
      "          Train loss : 0.2817129607256671,\n",
      "          Test loss : 0.21712693431686667,\n",
      "          Train EWT : 0.06339928057553956,\n",
      "          Test EWT: 0.014824797843665768\n",
      "        \n"
     ]
    },
    {
     "name": "stderr",
     "output_type": "stream",
     "text": [
      "100%|██████████| 2224/2224 [00:38<00:00, 57.04it/s]\n",
      "100%|██████████| 742/742 [00:13<00:00, 56.02it/s]\n"
     ]
    },
    {
     "name": "stdout",
     "output_type": "stream",
     "text": [
      "\n",
      "          Epoch: 18/22,\n",
      "          Train loss : 0.2839684401294488,\n",
      "          Test loss : 0.41883700371107097,\n",
      "          Train EWT : 0.049910071942446045,\n",
      "          Test EWT: 0.0\n",
      "        \n"
     ]
    },
    {
     "name": "stderr",
     "output_type": "stream",
     "text": [
      "100%|██████████| 2224/2224 [00:41<00:00, 54.09it/s]\n",
      "100%|██████████| 742/742 [00:11<00:00, 65.25it/s]\n"
     ]
    },
    {
     "name": "stdout",
     "output_type": "stream",
     "text": [
      "\n",
      "          Epoch: 19/22,\n",
      "          Train loss : 0.27721693598765235,\n",
      "          Test loss : 0.3212310646322139,\n",
      "          Train EWT : 0.040467625899280574,\n",
      "          Test EWT: 0.0026954177897574125\n",
      "        \n"
     ]
    },
    {
     "name": "stderr",
     "output_type": "stream",
     "text": [
      "100%|██████████| 2224/2224 [00:43<00:00, 51.48it/s]\n",
      "100%|██████████| 742/742 [00:10<00:00, 74.17it/s]\n"
     ]
    },
    {
     "name": "stdout",
     "output_type": "stream",
     "text": [
      "\n",
      "          Epoch: 20/22,\n",
      "          Train loss : 0.27129146111261027,\n",
      "          Test loss : 0.23356758850337708,\n",
      "          Train EWT : 0.07598920863309352,\n",
      "          Test EWT: 0.09299191374663072\n",
      "        \n"
     ]
    },
    {
     "name": "stderr",
     "output_type": "stream",
     "text": [
      "100%|██████████| 2224/2224 [00:42<00:00, 52.04it/s]\n",
      "100%|██████████| 742/742 [00:12<00:00, 60.72it/s]\n"
     ]
    },
    {
     "name": "stdout",
     "output_type": "stream",
     "text": [
      "\n",
      "          Epoch: 21/22,\n",
      "          Train loss : 0.26222014537885285,\n",
      "          Test loss : 0.22743244820278402,\n",
      "          Train EWT : 0.10251798561151079,\n",
      "          Test EWT: 0.09703504043126684\n",
      "        \n"
     ]
    },
    {
     "name": "stderr",
     "output_type": "stream",
     "text": [
      "100%|██████████| 2224/2224 [00:40<00:00, 54.96it/s]\n",
      "100%|██████████| 742/742 [00:13<00:00, 56.51it/s]"
     ]
    },
    {
     "name": "stdout",
     "output_type": "stream",
     "text": [
      "\n",
      "          Epoch: 22/22,\n",
      "          Train loss : 0.2591699700471853,\n",
      "          Test loss : 0.2625655843019411,\n",
      "          Train EWT : 0.10971223021582734,\n",
      "          Test EWT: 0.11455525606469003\n",
      "        \n"
     ]
    },
    {
     "name": "stderr",
     "output_type": "stream",
     "text": [
      "\n"
     ]
    }
   ],
   "source": [
    "train(model=model, epochs=epochs, lr=lr)"
   ]
  },
  {
   "cell_type": "code",
   "execution_count": 46,
   "metadata": {
    "colab": {
     "base_uri": "https://localhost:8080/",
     "height": 489
    },
    "executionInfo": {
     "elapsed": 560,
     "status": "ok",
     "timestamp": 1734976583948,
     "user": {
      "displayName": "Данил Терешин",
      "userId": "12554915802224218745"
     },
     "user_tz": -180
    },
    "id": "LYpRwsPMQ8QX",
    "outputId": "e34c0c80-b818-402f-8443-9d4cb922d3a6"
   },
   "outputs": [
    {
     "data": {
      "text/plain": [
       "Text(0, 0.5, 'MAE')"
      ]
     },
     "execution_count": 46,
     "metadata": {},
     "output_type": "execute_result"
    },
    {
     "data": {
      "image/png": "[encoded data removed]",
      "text/plain": [
       "<Figure size 640x480 with 1 Axes>"
      ]
     },
     "metadata": {},
     "output_type": "display_data"
    }
   ],
   "source": [
    "plt.plot(train_loss_history, label=\"train_loss\")\n",
    "plt.plot(test_loss_history, label=\"test_loss\")\n",
    "plt.legend()\n",
    "plt.title(\"Loss\")\n",
    "plt.xlabel('Epoch')\n",
    "plt.ylabel('MAE')"
   ]
  },
  {
   "cell_type": "code",
   "execution_count": 47,
   "metadata": {
    "colab": {
     "base_uri": "https://localhost:8080/",
     "height": 489
    },
    "executionInfo": {
     "elapsed": 284,
     "status": "ok",
     "timestamp": 1734976584226,
     "user": {
      "displayName": "Данил Терешин",
      "userId": "12554915802224218745"
     },
     "user_tz": -180
    },
    "id": "NhEBgmhdVn1a",
    "outputId": "b800398b-de1b-4ffd-a158-820cf61d1b2a"
   },
   "outputs": [
    {
     "data": {
      "text/plain": [
       "Text(0.5, 0, 'Epoch')"
      ]
     },
     "execution_count": 47,
     "metadata": {},
     "output_type": "execute_result"
    },
    {
     "data": {
      "image/png": "[encoded data removed]",
      "text/plain": [
       "<Figure size 640x480 with 1 Axes>"
      ]
     },
     "metadata": {},
     "output_type": "display_data"
    }
   ],
   "source": [
    "plt.plot(ewt_train_history, label=\"train_loss\")\n",
    "plt.plot(ewt_test_history, label=\"test_loss\")\n",
    "plt.legend()\n",
    "plt.title(\"EWT\")\n",
    "plt.xlabel('Epoch')"
   ]
  },
  {
   "cell_type": "code",
   "execution_count": 48,
   "metadata": {
    "executionInfo": {
     "elapsed": 10,
     "status": "ok",
     "timestamp": 1734976584226,
     "user": {
      "displayName": "Данил Терешин",
      "userId": "12554915802224218745"
     },
     "user_tz": -180
    },
    "id": "zh8AoQLtdjEf"
   },
   "outputs": [],
   "source": [
    "def predict(model: GraphNetwork):\n",
    "      y_pred, y_true = [], []\n",
    "\n",
    "      for i in tqdm(range(test_dataset_size)):\n",
    "          pred = model.feedforward(test_data.iloc[i].structures)\n",
    "          true = np.array(test_data.iloc[i].targets).reshape(-1,1)\n",
    "\n",
    "          y_pred.append(pred.item())\n",
    "          y_true.append(true.item())\n",
    "      return np.array(y_pred), np.array(y_true)"
   ]
  },
  {
   "cell_type": "code",
   "execution_count": 49,
   "metadata": {
    "colab": {
     "base_uri": "https://localhost:8080/"
    },
    "executionInfo": {
     "elapsed": 11114,
     "status": "ok",
     "timestamp": 1734976595331,
     "user": {
      "displayName": "Данил Терешин",
      "userId": "12554915802224218745"
     },
     "user_tz": -180
    },
    "id": "YEjOfWYXiEcm",
    "outputId": "c256275b-1c09-4304-f37f-1e55ee4880b7"
   },
   "outputs": [
    {
     "name": "stderr",
     "output_type": "stream",
     "text": [
      "100%|██████████| 742/742 [00:10<00:00, 67.69it/s]\n"
     ]
    }
   ],
   "source": [
    "y_pred, y_true = predict(model=model)"
   ]
  },
  {
   "cell_type": "code",
   "execution_count": 50,
   "metadata": {
    "colab": {
     "base_uri": "https://localhost:8080/"
    },
    "executionInfo": {
     "elapsed": 15,
     "status": "ok",
     "timestamp": 1734976595333,
     "user": {
      "displayName": "Данил Терешин",
      "userId": "12554915802224218745"
     },
     "user_tz": -180
    },
    "id": "NZoPkHq1iHWo",
    "outputId": "c4d26d85-83ed-43f5-afd2-fef410199475"
   },
   "outputs": [
    {
     "data": {
      "text/plain": [
       "0.47390705319298043"
      ]
     },
     "execution_count": 50,
     "metadata": {},
     "output_type": "execute_result"
    }
   ],
   "source": [
    "r2_score(y_true, y_pred)"
   ]
  },
  {
   "cell_type": "code",
   "execution_count": 50,
   "metadata": {
    "executionInfo": {
     "elapsed": 10,
     "status": "ok",
     "timestamp": 1734976595333,
     "user": {
      "displayName": "Данил Терешин",
      "userId": "12554915802224218745"
     },
     "user_tz": -180
    },
    "id": "e8dnaHS-iuX6"
   },
   "outputs": [],
   "source": []
  }
 ],
 "metadata": {
  "colab": {
   "authorship_tag": "ABX9TyPRr0MyXzAff//zRfcJXMhr",
   "provenance": []
  },
  "kernelspec": {
   "display_name": "Python 3 (ipykernel)",
   "language": "python",
   "name": "python3"
  },
  "language_info": {
   "codemirror_mode": {
    "name": "ipython",
    "version": 3
   },
   "file_extension": ".py",
   "mimetype": "text/x-python",
   "name": "python",
   "nbconvert_exporter": "python",
   "pygments_lexer": "ipython3",
   "version": "3.12.7"
  }
 },
 "nbformat": 4,
 "nbformat_minor": 4
}
